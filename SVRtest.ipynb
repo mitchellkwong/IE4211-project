{
 "metadata": {
  "language_info": {
   "codemirror_mode": {
    "name": "ipython",
    "version": 3
   },
   "file_extension": ".py",
   "mimetype": "text/x-python",
   "name": "python",
   "nbconvert_exporter": "python",
   "pygments_lexer": "ipython3",
   "version": "3.8.5"
  },
  "orig_nbformat": 2,
  "kernelspec": {
   "name": "python385jvsc74a57bd03118a93b827121bc5236acca44a8a267e7e9bd9c58b6d581b80fcd49b274f77e",
   "display_name": "Python 3.8.5 64-bit ('base': conda)"
  }
 },
 "nbformat": 4,
 "nbformat_minor": 2,
 "cells": [
  {
   "source": [
    "# Import train and create training and test datasets"
   ],
   "cell_type": "markdown",
   "metadata": {}
  },
  {
   "cell_type": "code",
   "execution_count": 31,
   "metadata": {},
   "outputs": [],
   "source": [
    "from data import train\n",
    "from sklearn.svm import SVR\n",
    "from sklearn.model_selection import GridSearchCV\n",
    "import numpy as np\n",
    "from multiprocessing import cpu_count"
   ]
  },
  {
   "cell_type": "code",
   "execution_count": 32,
   "metadata": {},
   "outputs": [],
   "source": [
    "from sklearn.model_selection import train_test_split"
   ]
  },
  {
   "cell_type": "code",
   "execution_count": 33,
   "metadata": {},
   "outputs": [],
   "source": [
    "X=train.drop('sales', axis=1)"
   ]
  },
  {
   "cell_type": "code",
   "execution_count": 34,
   "metadata": {},
   "outputs": [],
   "source": [
    "y=train.sales"
   ]
  },
  {
   "cell_type": "code",
   "execution_count": 35,
   "metadata": {},
   "outputs": [],
   "source": [
    "X_train,X_test,y_train,y_test = train_test_split(X,y, test_size=0.2,random_state =30)"
   ]
  },
  {
   "source": [
    "# SVR(Radial)"
   ],
   "cell_type": "markdown",
   "metadata": {}
  },
  {
   "cell_type": "code",
   "execution_count": null,
   "metadata": {},
   "outputs": [],
   "source": [
    "modelr = SVR(kernal=\"rbf\",max_iter= 10000)\n",
    "pgamma = \n",
    "\n",
    "C = \n",
    "aepsilon = am = {'rC' :[Cgamma' : ('gamma\n",
    "m\n",
    "'epsilon' : epsilon,'verbose = True\n",
    "\n",
    "gsradiGridSearchCV(modelsvrrram,cvr_jobs = cpu_count() - 1,cv=5, return_train_score = True,"
   ]
  },
  {
   "source": [
    "# SVR(Linear)"
   ],
   "cell_type": "markdown",
   "metadata": {}
  },
  {
   "cell_type": "code",
   "execution_count": null,
   "metadata": {},
   "outputs": [],
   "source": [
    "modell = SVR(kernal=\"linear\",max_iter= 10000)\n",
    "C = \n",
    "epsilon = \n",
    "paramr = {'C':C,'epsilon' : epsilon,verbose = True}\n",
    "\n",
    "gsr = GridSearchCV(modelr,paramr,n_jobs = cpu_count() - 1,cv=5, return_train_score = True,)"
   ]
  },
  {
   "source": [
    "# SVR(Poly)"
   ],
   "cell_type": "markdown",
   "metadata": {}
  },
  {
   "cell_type": "code",
   "execution_count": null,
   "metadata": {},
   "outputs": [],
   "source": [
    "modelp = SVR(kernal=\"poly\",max_iter= 10000)\n",
    "degree = \n",
    "gamma = \n",
    "C = \n",
    "epsilon = \n",
    "paramr = {'C':C,'gamma' : gamma,'degree' : gamma,'degree' : epsilon,verbose = True}\n",
    "\n",
    "gsr = GridSearchCV(modelr,paramr,n_jobs = cpu_count() - 1,cv=5, return_train_score = True,)"
   ]
  },
  {
   "source": [
    "# SVR (Sigmoid)"
   ],
   "cell_type": "markdown",
   "metadata": {}
  },
  {
   "source": [
    "# Grid Search"
   ],
   "cell_type": "markdown",
   "metadata": {}
  },
  {
   "cell_type": "code",
   "execution_count": 29,
   "metadata": {},
   "outputs": [
    {
     "output_type": "error",
     "ename": "SyntaxError",
     "evalue": "positional argument follows keyword argument (<ipython-input-29-e72b9caf95c8>, line 5)",
     "traceback": [
      "\u001b[1;36m  File \u001b[1;32m\"<ipython-input-29-e72b9caf95c8>\"\u001b[1;36m, line \u001b[1;32m5\u001b[0m\n\u001b[1;33m    param,\u001b[0m\n\u001b[1;37m    ^\u001b[0m\n\u001b[1;31mSyntaxError\u001b[0m\u001b[1;31m:\u001b[0m positional argument follows keyword argument\n"
     ]
    }
   ],
   "source": [
    "param = {'kernel' : ('linear', 'poly', 'rbf', 'sigmoid'),'C' : [0.01,0.1,1,10,100],'degree' : [1,2,3,4,5,6],'coef0' : [0.01,10,0.5],'gamma' : ('auto','scale')}\n",
    "\n",
    "modelsvr = SVR()\n",
    "\n",
    "grids=GridSearchCV(modelsvr)\n",
    "\n",
    "grids.fit(X_train,y_train)"
   ]
  },
  {
   "cell_type": "code",
   "execution_count": null,
   "metadata": {},
   "outputs": [],
   "source": []
  }
 ]
}