{
 "metadata": {
  "language_info": {
   "codemirror_mode": {
    "name": "ipython",
    "version": 3
   },
   "file_extension": ".py",
   "mimetype": "text/x-python",
   "name": "python",
   "nbconvert_exporter": "python",
   "pygments_lexer": "ipython3",
   "version": "3.8.8"
  },
  "orig_nbformat": 2,
  "kernelspec": {
   "name": "python388jvsc74a57bd071677de9aba17018a39f7c0f2bbb29b4bc1c1991dcce88d5d6c4518b62318688",
   "display_name": "Python 3.8.8 64-bit ('base': conda)"
  },
  "metadata": {
   "interpreter": {
    "hash": "71677de9aba17018a39f7c0f2bbb29b4bc1c1991dcce88d5d6c4518b62318688"
   }
  }
 },
 "nbformat": 4,
 "nbformat_minor": 2,
 "cells": [
  {
   "source": [
    "# Results\n",
    "\n",
    "Generate and cache predictions for best models and collate test and validation metrics."
   ],
   "cell_type": "markdown",
   "metadata": {}
  },
  {
   "cell_type": "code",
   "execution_count": 2,
   "metadata": {},
   "outputs": [],
   "source": [
    "from pathlib import Path\n",
    "\n",
    "import matplotlib.pyplot as plt\n",
    "import numpy as np\n",
    "import pandas as pd\n",
    "\n",
    "from data import train, validation\n",
    "from data import X, y, categorical, numerical\n",
    "from utils import StandardizedGridSearchCV"
   ]
  },
  {
   "source": [
    "# Gather best models"
   ],
   "cell_type": "markdown",
   "metadata": {}
  },
  {
   "cell_type": "code",
   "execution_count": 3,
   "metadata": {},
   "outputs": [
    {
     "output_type": "stream",
     "name": "stderr",
     "text": [
      "/home/mitchellkwong/anaconda3/lib/python3.8/site-packages/sklearn/base.py:310: UserWarning: Trying to unpickle estimator SVR from version 0.23.2 when using version 0.24.1. This might lead to breaking code or invalid results. Use at your own risk.\n  warnings.warn(\n/home/mitchellkwong/anaconda3/lib/python3.8/site-packages/sklearn/base.py:310: UserWarning: Trying to unpickle estimator GridSearchCV from version 0.23.2 when using version 0.24.1. This might lead to breaking code or invalid results. Use at your own risk.\n  warnings.warn(\n"
     ]
    }
   ],
   "source": [
    "root = Path('models')\n",
    "\n",
    "searches = dict()\n",
    "for path in root.glob('*.p'):\n",
    "    searches[path.stem] = StandardizedGridSearchCV.load(path)\n",
    "\n",
    "searches = pd.Series(searches)"
   ]
  },
  {
   "cell_type": "code",
   "execution_count": 4,
   "metadata": {
    "tags": []
   },
   "outputs": [
    {
     "output_type": "execute_result",
     "data": {
      "text/plain": [
       "        model                                      params  \\\n",
       "0  SVR_Radial  {'C': 1300, 'epsilon': 3.0, 'gamma': 0.05}   \n",
       "1  SVR_Radial  {'C': 1300, 'epsilon': 3.5, 'gamma': 0.05}   \n",
       "2  SVR_Radial  {'C': 1350, 'epsilon': 2.5, 'gamma': 0.05}   \n",
       "3  SVR_Radial  {'C': 1350, 'epsilon': 3.0, 'gamma': 0.05}   \n",
       "4  SVR_Radial  {'C': 1350, 'epsilon': 3.5, 'gamma': 0.05}   \n",
       "\n",
       "                                           estimator  \n",
       "0  SVR(C=1300, epsilon=3.0, gamma=0.05, max_iter=...  \n",
       "1  SVR(C=1300, epsilon=3.5, gamma=0.05, max_iter=...  \n",
       "2  SVR(C=1350, epsilon=2.5, gamma=0.05, max_iter=...  \n",
       "3  SVR(C=1350, epsilon=3.0, gamma=0.05, max_iter=...  \n",
       "4  SVR(C=1350, epsilon=3.5, gamma=0.05, max_iter=...  "
      ],
      "text/html": "<div>\n<style scoped>\n    .dataframe tbody tr th:only-of-type {\n        vertical-align: middle;\n    }\n\n    .dataframe tbody tr th {\n        vertical-align: top;\n    }\n\n    .dataframe thead th {\n        text-align: right;\n    }\n</style>\n<table border=\"1\" class=\"dataframe\">\n  <thead>\n    <tr style=\"text-align: right;\">\n      <th></th>\n      <th>model</th>\n      <th>params</th>\n      <th>estimator</th>\n    </tr>\n  </thead>\n  <tbody>\n    <tr>\n      <th>0</th>\n      <td>SVR_Radial</td>\n      <td>{'C': 1300, 'epsilon': 3.0, 'gamma': 0.05}</td>\n      <td>SVR(C=1300, epsilon=3.0, gamma=0.05, max_iter=...</td>\n    </tr>\n    <tr>\n      <th>1</th>\n      <td>SVR_Radial</td>\n      <td>{'C': 1300, 'epsilon': 3.5, 'gamma': 0.05}</td>\n      <td>SVR(C=1300, epsilon=3.5, gamma=0.05, max_iter=...</td>\n    </tr>\n    <tr>\n      <th>2</th>\n      <td>SVR_Radial</td>\n      <td>{'C': 1350, 'epsilon': 2.5, 'gamma': 0.05}</td>\n      <td>SVR(C=1350, epsilon=2.5, gamma=0.05, max_iter=...</td>\n    </tr>\n    <tr>\n      <th>3</th>\n      <td>SVR_Radial</td>\n      <td>{'C': 1350, 'epsilon': 3.0, 'gamma': 0.05}</td>\n      <td>SVR(C=1350, epsilon=3.0, gamma=0.05, max_iter=...</td>\n    </tr>\n    <tr>\n      <th>4</th>\n      <td>SVR_Radial</td>\n      <td>{'C': 1350, 'epsilon': 3.5, 'gamma': 0.05}</td>\n      <td>SVR(C=1350, epsilon=3.5, gamma=0.05, max_iter=...</td>\n    </tr>\n  </tbody>\n</table>\n</div>"
     },
     "metadata": {},
     "execution_count": 4
    }
   ],
   "source": [
    "from sklearn.base import clone\n",
    "\n",
    "candidates = []\n",
    "for model in searches.index:\n",
    "    search = searches[model]\n",
    "    best_params = search.results.head(5)\n",
    "    best_params = best_params.index.to_frame()\n",
    "    best_params = best_params.to_dict(orient='records')\n",
    "    for params in best_params:\n",
    "        candidates.append({\n",
    "            'model': model,\n",
    "            'params': params,\n",
    "            'estimator': clone(search.best_estimator_.set_params(**params))\n",
    "        })\n",
    "candidates = pd.DataFrame.from_records(candidates)\n",
    "candidates.head()"
   ]
  },
  {
   "source": [
    "# Cache predictions"
   ],
   "cell_type": "markdown",
   "metadata": {}
  },
  {
   "source": [
    "# Fit to train\n",
    "candidates['estimator'].apply(lambda x: x.fit(train[X], train[y]))\n",
    "\n",
    "# Predict on different datasets\n",
    "candidates['train_pred'] = candidates['estimator'].apply(lambda x: x.predict(train[X]))\n",
    "candidates['val_pred'] = candidates['estimator'].apply(lambda x: x.predict(validation[X]))\n",
    "\n",
    "# Save predictions\n",
    "candidates['train_pred'].apply(pd.Series).T.to_csv('predictions/train.csv')\n",
    "candidates['val_pred'].apply(pd.Series).T.to_csv('predictions/validation.csv')"
   ],
   "cell_type": "code",
   "metadata": {},
   "execution_count": 5,
   "outputs": [
    {
     "output_type": "stream",
     "name": "stderr",
     "text": [
      "/home/mitchellkwong/anaconda3/lib/python3.8/site-packages/sklearn/svm/_base.py:255: ConvergenceWarning: Solver terminated early (max_iter=10000).  Consider pre-processing your data with StandardScaler or MinMaxScaler.\n",
      "  warnings.warn('Solver terminated early (max_iter=%i).'\n",
      "/home/mitchellkwong/anaconda3/lib/python3.8/site-packages/sklearn/svm/_base.py:255: ConvergenceWarning: Solver terminated early (max_iter=10000).  Consider pre-processing your data with StandardScaler or MinMaxScaler.\n",
      "  warnings.warn('Solver terminated early (max_iter=%i).'\n",
      "/home/mitchellkwong/anaconda3/lib/python3.8/site-packages/sklearn/svm/_base.py:255: ConvergenceWarning: Solver terminated early (max_iter=10000).  Consider pre-processing your data with StandardScaler or MinMaxScaler.\n",
      "  warnings.warn('Solver terminated early (max_iter=%i).'\n",
      "/home/mitchellkwong/anaconda3/lib/python3.8/site-packages/sklearn/svm/_base.py:255: ConvergenceWarning: Solver terminated early (max_iter=10000).  Consider pre-processing your data with StandardScaler or MinMaxScaler.\n",
      "  warnings.warn('Solver terminated early (max_iter=%i).'\n",
      "/home/mitchellkwong/anaconda3/lib/python3.8/site-packages/sklearn/svm/_base.py:255: ConvergenceWarning: Solver terminated early (max_iter=10000).  Consider pre-processing your data with StandardScaler or MinMaxScaler.\n",
      "  warnings.warn('Solver terminated early (max_iter=%i).'\n",
      "/home/mitchellkwong/anaconda3/lib/python3.8/site-packages/sklearn/svm/_base.py:255: ConvergenceWarning: Solver terminated early (max_iter=10000).  Consider pre-processing your data with StandardScaler or MinMaxScaler.\n",
      "  warnings.warn('Solver terminated early (max_iter=%i).'\n"
     ]
    }
   ]
  },
  {
   "source": [
    "# Generate Metrics"
   ],
   "cell_type": "markdown",
   "metadata": {}
  },
  {
   "cell_type": "code",
   "execution_count": 6,
   "metadata": {},
   "outputs": [
    {
     "output_type": "execute_result",
     "data": {
      "text/plain": [
       "                 model                                             params  \\\n",
       "0           SVR_Radial         {'C': 1300, 'epsilon': 3.0, 'gamma': 0.05}   \n",
       "2           SVR_Radial         {'C': 1350, 'epsilon': 2.5, 'gamma': 0.05}   \n",
       "1           SVR_Radial         {'C': 1300, 'epsilon': 3.5, 'gamma': 0.05}   \n",
       "3           SVR_Radial         {'C': 1350, 'epsilon': 3.0, 'gamma': 0.05}   \n",
       "4           SVR_Radial         {'C': 1350, 'epsilon': 3.5, 'gamma': 0.05}   \n",
       "13               lasso  {'model_fitting__method__alpha': 0.51818181818...   \n",
       "12               lasso  {'model_fitting__method__alpha': 0.52727272727...   \n",
       "10               lasso  {'model_fitting__method__alpha': 0.53636363636...   \n",
       "11               lasso  {'model_fitting__method__alpha': 0.54545454545...   \n",
       "14               lasso  {'model_fitting__method__alpha': 0.55454545454...   \n",
       "28               ridge  {'model_fitting__method__alpha': 133.033033033...   \n",
       "26               ridge  {'model_fitting__method__alpha': 133.053053053...   \n",
       "25               ridge  {'model_fitting__method__alpha': 133.073073073...   \n",
       "27               ridge  {'model_fitting__method__alpha': 133.093093093...   \n",
       "29               ridge  {'model_fitting__method__alpha': 133.113113113...   \n",
       "9           elasticnet  {'model_fitting__method__alpha': 0.1, 'model_f...   \n",
       "20  regression_phase_1  {'dim_reduction__method': RFECV(estimator=Line...   \n",
       "5           elasticnet  {'model_fitting__method__alpha': 1.0, 'model_f...   \n",
       "8           elasticnet  {'model_fitting__method__alpha': 0.01, 'model_...   \n",
       "6           elasticnet  {'model_fitting__method__alpha': 0.1, 'model_f...   \n",
       "19  regression_phase_2  {'model_fitting__method__alpha': 0.1, 'model_f...   \n",
       "18  regression_phase_2  {'model_fitting__method__alpha': 0.1, 'model_f...   \n",
       "17  regression_phase_2  {'model_fitting__method__alpha': 0.1, 'model_f...   \n",
       "16  regression_phase_2  {'model_fitting__method__alpha': 0.1, 'model_f...   \n",
       "15  regression_phase_2  {'model_fitting__method__alpha': 0.1, 'model_f...   \n",
       "21  regression_phase_1  {'dim_reduction__method': 'passthrough', 'mode...   \n",
       "7           elasticnet  {'model_fitting__method__alpha': 1.0, 'model_f...   \n",
       "24  regression_phase_1  {'dim_reduction__method': RFECV(estimator=Line...   \n",
       "22  regression_phase_1  {'dim_reduction__method': 'passthrough', 'mode...   \n",
       "30            SVR_Poly  {'C': 1, 'degree': 2, 'epsilon': 0.8, 'gamma': 1}   \n",
       "23  regression_phase_1  {'dim_reduction__method': RFECV(estimator=Line...   \n",
       "33          SVR_Linear                      {'C': 0.8, 'epsilon': 0.0015}   \n",
       "31          SVR_Linear                      {'C': 0.8, 'epsilon': 0.0025}   \n",
       "32          SVR_Linear                      {'C': 0.8, 'epsilon': 0.0035}   \n",
       "\n",
       "      train_mse      val_mse  \n",
       "0    836.609672  1265.690847  \n",
       "2    821.433063  1269.399724  \n",
       "1    836.279711  1271.187547  \n",
       "3    821.499634  1274.060259  \n",
       "4    822.112624  1278.397123  \n",
       "13  2305.169896  1646.081846  \n",
       "12  2306.044925  1646.350145  \n",
       "10  2306.936969  1646.644823  \n",
       "11  2307.846834  1646.974342  \n",
       "14  2308.740174  1647.216059  \n",
       "28  2303.869866  1647.858197  \n",
       "26  2303.876563  1647.862800  \n",
       "25  2303.883259  1647.867402  \n",
       "27  2303.889955  1647.872004  \n",
       "29  2303.896650  1647.876606  \n",
       "9   2195.335272  1648.570878  \n",
       "20  2228.412243  1649.953010  \n",
       "5   2331.946268  1653.660314  \n",
       "8   2186.948353  1661.349179  \n",
       "6   2245.811130  1662.829337  \n",
       "19  2260.195621  1669.662589  \n",
       "18  2260.195993  1669.662787  \n",
       "17  2260.196031  1669.662807  \n",
       "16  2260.196034  1669.662809  \n",
       "15  2260.196035  1669.662809  \n",
       "21  2167.232660  1672.317975  \n",
       "7   2456.437183  1766.587556  \n",
       "24  2532.170616  1943.163157  \n",
       "22  3388.033623  2006.277463  \n",
       "30  2327.551109  2014.325660  \n",
       "23  3402.738443  2023.330424  \n",
       "33  3524.858557  2149.447359  \n",
       "31  3524.853690  2149.461351  \n",
       "32  3524.855447  2149.481590  "
      ],
      "text/html": "<div>\n<style scoped>\n    .dataframe tbody tr th:only-of-type {\n        vertical-align: middle;\n    }\n\n    .dataframe tbody tr th {\n        vertical-align: top;\n    }\n\n    .dataframe thead th {\n        text-align: right;\n    }\n</style>\n<table border=\"1\" class=\"dataframe\">\n  <thead>\n    <tr style=\"text-align: right;\">\n      <th></th>\n      <th>model</th>\n      <th>params</th>\n      <th>train_mse</th>\n      <th>val_mse</th>\n    </tr>\n  </thead>\n  <tbody>\n    <tr>\n      <th>0</th>\n      <td>SVR_Radial</td>\n      <td>{'C': 1300, 'epsilon': 3.0, 'gamma': 0.05}</td>\n      <td>836.609672</td>\n      <td>1265.690847</td>\n    </tr>\n    <tr>\n      <th>2</th>\n      <td>SVR_Radial</td>\n      <td>{'C': 1350, 'epsilon': 2.5, 'gamma': 0.05}</td>\n      <td>821.433063</td>\n      <td>1269.399724</td>\n    </tr>\n    <tr>\n      <th>1</th>\n      <td>SVR_Radial</td>\n      <td>{'C': 1300, 'epsilon': 3.5, 'gamma': 0.05}</td>\n      <td>836.279711</td>\n      <td>1271.187547</td>\n    </tr>\n    <tr>\n      <th>3</th>\n      <td>SVR_Radial</td>\n      <td>{'C': 1350, 'epsilon': 3.0, 'gamma': 0.05}</td>\n      <td>821.499634</td>\n      <td>1274.060259</td>\n    </tr>\n    <tr>\n      <th>4</th>\n      <td>SVR_Radial</td>\n      <td>{'C': 1350, 'epsilon': 3.5, 'gamma': 0.05}</td>\n      <td>822.112624</td>\n      <td>1278.397123</td>\n    </tr>\n    <tr>\n      <th>13</th>\n      <td>lasso</td>\n      <td>{'model_fitting__method__alpha': 0.51818181818...</td>\n      <td>2305.169896</td>\n      <td>1646.081846</td>\n    </tr>\n    <tr>\n      <th>12</th>\n      <td>lasso</td>\n      <td>{'model_fitting__method__alpha': 0.52727272727...</td>\n      <td>2306.044925</td>\n      <td>1646.350145</td>\n    </tr>\n    <tr>\n      <th>10</th>\n      <td>lasso</td>\n      <td>{'model_fitting__method__alpha': 0.53636363636...</td>\n      <td>2306.936969</td>\n      <td>1646.644823</td>\n    </tr>\n    <tr>\n      <th>11</th>\n      <td>lasso</td>\n      <td>{'model_fitting__method__alpha': 0.54545454545...</td>\n      <td>2307.846834</td>\n      <td>1646.974342</td>\n    </tr>\n    <tr>\n      <th>14</th>\n      <td>lasso</td>\n      <td>{'model_fitting__method__alpha': 0.55454545454...</td>\n      <td>2308.740174</td>\n      <td>1647.216059</td>\n    </tr>\n    <tr>\n      <th>28</th>\n      <td>ridge</td>\n      <td>{'model_fitting__method__alpha': 133.033033033...</td>\n      <td>2303.869866</td>\n      <td>1647.858197</td>\n    </tr>\n    <tr>\n      <th>26</th>\n      <td>ridge</td>\n      <td>{'model_fitting__method__alpha': 133.053053053...</td>\n      <td>2303.876563</td>\n      <td>1647.862800</td>\n    </tr>\n    <tr>\n      <th>25</th>\n      <td>ridge</td>\n      <td>{'model_fitting__method__alpha': 133.073073073...</td>\n      <td>2303.883259</td>\n      <td>1647.867402</td>\n    </tr>\n    <tr>\n      <th>27</th>\n      <td>ridge</td>\n      <td>{'model_fitting__method__alpha': 133.093093093...</td>\n      <td>2303.889955</td>\n      <td>1647.872004</td>\n    </tr>\n    <tr>\n      <th>29</th>\n      <td>ridge</td>\n      <td>{'model_fitting__method__alpha': 133.113113113...</td>\n      <td>2303.896650</td>\n      <td>1647.876606</td>\n    </tr>\n    <tr>\n      <th>9</th>\n      <td>elasticnet</td>\n      <td>{'model_fitting__method__alpha': 0.1, 'model_f...</td>\n      <td>2195.335272</td>\n      <td>1648.570878</td>\n    </tr>\n    <tr>\n      <th>20</th>\n      <td>regression_phase_1</td>\n      <td>{'dim_reduction__method': RFECV(estimator=Line...</td>\n      <td>2228.412243</td>\n      <td>1649.953010</td>\n    </tr>\n    <tr>\n      <th>5</th>\n      <td>elasticnet</td>\n      <td>{'model_fitting__method__alpha': 1.0, 'model_f...</td>\n      <td>2331.946268</td>\n      <td>1653.660314</td>\n    </tr>\n    <tr>\n      <th>8</th>\n      <td>elasticnet</td>\n      <td>{'model_fitting__method__alpha': 0.01, 'model_...</td>\n      <td>2186.948353</td>\n      <td>1661.349179</td>\n    </tr>\n    <tr>\n      <th>6</th>\n      <td>elasticnet</td>\n      <td>{'model_fitting__method__alpha': 0.1, 'model_f...</td>\n      <td>2245.811130</td>\n      <td>1662.829337</td>\n    </tr>\n    <tr>\n      <th>19</th>\n      <td>regression_phase_2</td>\n      <td>{'model_fitting__method__alpha': 0.1, 'model_f...</td>\n      <td>2260.195621</td>\n      <td>1669.662589</td>\n    </tr>\n    <tr>\n      <th>18</th>\n      <td>regression_phase_2</td>\n      <td>{'model_fitting__method__alpha': 0.1, 'model_f...</td>\n      <td>2260.195993</td>\n      <td>1669.662787</td>\n    </tr>\n    <tr>\n      <th>17</th>\n      <td>regression_phase_2</td>\n      <td>{'model_fitting__method__alpha': 0.1, 'model_f...</td>\n      <td>2260.196031</td>\n      <td>1669.662807</td>\n    </tr>\n    <tr>\n      <th>16</th>\n      <td>regression_phase_2</td>\n      <td>{'model_fitting__method__alpha': 0.1, 'model_f...</td>\n      <td>2260.196034</td>\n      <td>1669.662809</td>\n    </tr>\n    <tr>\n      <th>15</th>\n      <td>regression_phase_2</td>\n      <td>{'model_fitting__method__alpha': 0.1, 'model_f...</td>\n      <td>2260.196035</td>\n      <td>1669.662809</td>\n    </tr>\n    <tr>\n      <th>21</th>\n      <td>regression_phase_1</td>\n      <td>{'dim_reduction__method': 'passthrough', 'mode...</td>\n      <td>2167.232660</td>\n      <td>1672.317975</td>\n    </tr>\n    <tr>\n      <th>7</th>\n      <td>elasticnet</td>\n      <td>{'model_fitting__method__alpha': 1.0, 'model_f...</td>\n      <td>2456.437183</td>\n      <td>1766.587556</td>\n    </tr>\n    <tr>\n      <th>24</th>\n      <td>regression_phase_1</td>\n      <td>{'dim_reduction__method': RFECV(estimator=Line...</td>\n      <td>2532.170616</td>\n      <td>1943.163157</td>\n    </tr>\n    <tr>\n      <th>22</th>\n      <td>regression_phase_1</td>\n      <td>{'dim_reduction__method': 'passthrough', 'mode...</td>\n      <td>3388.033623</td>\n      <td>2006.277463</td>\n    </tr>\n    <tr>\n      <th>30</th>\n      <td>SVR_Poly</td>\n      <td>{'C': 1, 'degree': 2, 'epsilon': 0.8, 'gamma': 1}</td>\n      <td>2327.551109</td>\n      <td>2014.325660</td>\n    </tr>\n    <tr>\n      <th>23</th>\n      <td>regression_phase_1</td>\n      <td>{'dim_reduction__method': RFECV(estimator=Line...</td>\n      <td>3402.738443</td>\n      <td>2023.330424</td>\n    </tr>\n    <tr>\n      <th>33</th>\n      <td>SVR_Linear</td>\n      <td>{'C': 0.8, 'epsilon': 0.0015}</td>\n      <td>3524.858557</td>\n      <td>2149.447359</td>\n    </tr>\n    <tr>\n      <th>31</th>\n      <td>SVR_Linear</td>\n      <td>{'C': 0.8, 'epsilon': 0.0025}</td>\n      <td>3524.853690</td>\n      <td>2149.461351</td>\n    </tr>\n    <tr>\n      <th>32</th>\n      <td>SVR_Linear</td>\n      <td>{'C': 0.8, 'epsilon': 0.0035}</td>\n      <td>3524.855447</td>\n      <td>2149.481590</td>\n    </tr>\n  </tbody>\n</table>\n</div>"
     },
     "metadata": {},
     "execution_count": 6
    }
   ],
   "source": [
    "from sklearn.metrics import mean_squared_error\n",
    "\n",
    "candidates['train_mse'] = candidates['train_pred'].apply(lambda x: mean_squared_error(train[y], x))\n",
    "candidates['val_mse'] = candidates['val_pred'].apply(lambda x: mean_squared_error(validation[y], x))\n",
    "\n",
    "candidates.sort_values('val_mse')[['model', 'params', 'train_mse', 'val_mse']]"
   ]
  }
 ]
}