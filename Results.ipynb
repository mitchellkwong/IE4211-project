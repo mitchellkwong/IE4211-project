{
 "metadata": {
  "language_info": {
   "codemirror_mode": {
    "name": "ipython",
    "version": 3
   },
   "file_extension": ".py",
   "mimetype": "text/x-python",
   "name": "python",
   "nbconvert_exporter": "python",
   "pygments_lexer": "ipython3",
   "version": "3.8.8"
  },
  "orig_nbformat": 2,
  "kernelspec": {
   "name": "python388jvsc74a57bd071677de9aba17018a39f7c0f2bbb29b4bc1c1991dcce88d5d6c4518b62318688",
   "display_name": "Python 3.8.8 64-bit ('base': conda)"
  },
  "metadata": {
   "interpreter": {
    "hash": "71677de9aba17018a39f7c0f2bbb29b4bc1c1991dcce88d5d6c4518b62318688"
   }
  }
 },
 "nbformat": 4,
 "nbformat_minor": 2,
 "cells": [
  {
   "source": [
    "# Results\n",
    "\n",
    "Generate and cache predictions for best models and collate test and validation metrics."
   ],
   "cell_type": "markdown",
   "metadata": {}
  },
  {
   "cell_type": "code",
   "execution_count": 8,
   "metadata": {},
   "outputs": [],
   "source": [
    "from pathlib import Path\n",
    "\n",
    "import matplotlib.pyplot as plt\n",
    "import numpy as np\n",
    "import pandas as pd\n",
    "\n",
    "from data import train, validation, test\n",
    "from data import X, y, categorical, numerical\n",
    "from utils import StandardizedGridSearchCV"
   ]
  },
  {
   "source": [
    "# Gather best models"
   ],
   "cell_type": "markdown",
   "metadata": {}
  },
  {
   "cell_type": "code",
   "execution_count": 9,
   "metadata": {},
   "outputs": [
    {
     "output_type": "stream",
     "name": "stderr",
     "text": [
      "/home/mitchellkwong/anaconda3/lib/python3.8/site-packages/sklearn/base.py:310: UserWarning: Trying to unpickle estimator SVR from version 0.23.2 when using version 0.24.1. This might lead to breaking code or invalid results. Use at your own risk.\n  warnings.warn(\n/home/mitchellkwong/anaconda3/lib/python3.8/site-packages/sklearn/base.py:310: UserWarning: Trying to unpickle estimator GridSearchCV from version 0.23.2 when using version 0.24.1. This might lead to breaking code or invalid results. Use at your own risk.\n  warnings.warn(\n/home/mitchellkwong/anaconda3/lib/python3.8/site-packages/sklearn/base.py:310: UserWarning: Trying to unpickle estimator DecisionTreeRegressor from version 0.23.2 when using version 0.24.1. This might lead to breaking code or invalid results. Use at your own risk.\n  warnings.warn(\n/home/mitchellkwong/anaconda3/lib/python3.8/site-packages/sklearn/base.py:310: UserWarning: Trying to unpickle estimator RandomForestRegressor from version 0.23.2 when using version 0.24.1. This might lead to breaking code or invalid results. Use at your own risk.\n  warnings.warn(\n/home/mitchellkwong/anaconda3/lib/python3.8/site-packages/sklearn/base.py:310: UserWarning: Trying to unpickle estimator DummyRegressor from version 0.23.2 when using version 0.24.1. This might lead to breaking code or invalid results. Use at your own risk.\n  warnings.warn(\n/home/mitchellkwong/anaconda3/lib/python3.8/site-packages/sklearn/base.py:310: UserWarning: Trying to unpickle estimator GradientBoostingRegressor from version 0.23.2 when using version 0.24.1. This might lead to breaking code or invalid results. Use at your own risk.\n  warnings.warn(\n"
     ]
    }
   ],
   "source": [
    "root = Path('models')\n",
    "\n",
    "searches = dict()\n",
    "for path in root.glob('*.p'):\n",
    "    searches[path.stem] = StandardizedGridSearchCV.load(path)\n",
    "\n",
    "searches = pd.Series(searches)"
   ]
  },
  {
   "source": [
    "from sklearn.base import clone\n",
    "\n",
    "candidates = []\n",
    "for model in searches.index:\n",
    "    search = searches[model]\n",
    "    best_params = search.results.head(1)\n",
    "    best_params = best_params.index.to_frame()\n",
    "    best_params = best_params.to_dict(orient='records')\n",
    "    for params in best_params:\n",
    "        candidates.append({\n",
    "            'model': model,\n",
    "            'params': {**params, 'random_state': 123456789},\n",
    "            'estimator': clone(search.best_estimator_.set_params(**params))\n",
    "        })\n",
    "candidates = pd.DataFrame.from_records(candidates)\n",
    "candidates.head()"
   ],
   "cell_type": "code",
   "metadata": {
    "tags": []
   },
   "execution_count": 42,
   "outputs": [
    {
     "output_type": "execute_result",
     "data": {
      "text/plain": [
       "        model                                             params  \\\n",
       "0  SVR_Radial  {'C': 1300, 'epsilon': 3.0, 'gamma': 0.05, 'ra...   \n",
       "1  elasticnet  {'model_fitting__method__l1_ratio': 1e-08, 'ra...   \n",
       "2       lasso  {'model_fitting__method__alpha': 0.0, 'random_...   \n",
       "3         RF6  {'ccp_alpha': 0.13, 'criterion': 'mse', 'max_d...   \n",
       "4       RFe50  {'ccp_alpha': 1.0, 'criterion': 'mse', 'max_de...   \n",
       "\n",
       "                                           estimator  \n",
       "0  SVR(C=1300, epsilon=3.0, gamma=0.05, max_iter=...  \n",
       "1  ((passthrough, ColumnTransformer(transformers=...  \n",
       "2  ((passthrough, ColumnTransformer(transformers=...  \n",
       "3  RandomForestRegressor(ccp_alpha=0.13, max_dept...  \n",
       "4  RandomForestRegressor(ccp_alpha=1.0, max_depth...  "
      ],
      "text/html": "<div>\n<style scoped>\n    .dataframe tbody tr th:only-of-type {\n        vertical-align: middle;\n    }\n\n    .dataframe tbody tr th {\n        vertical-align: top;\n    }\n\n    .dataframe thead th {\n        text-align: right;\n    }\n</style>\n<table border=\"1\" class=\"dataframe\">\n  <thead>\n    <tr style=\"text-align: right;\">\n      <th></th>\n      <th>model</th>\n      <th>params</th>\n      <th>estimator</th>\n    </tr>\n  </thead>\n  <tbody>\n    <tr>\n      <th>0</th>\n      <td>SVR_Radial</td>\n      <td>{'C': 1300, 'epsilon': 3.0, 'gamma': 0.05, 'ra...</td>\n      <td>SVR(C=1300, epsilon=3.0, gamma=0.05, max_iter=...</td>\n    </tr>\n    <tr>\n      <th>1</th>\n      <td>elasticnet</td>\n      <td>{'model_fitting__method__l1_ratio': 1e-08, 'ra...</td>\n      <td>((passthrough, ColumnTransformer(transformers=...</td>\n    </tr>\n    <tr>\n      <th>2</th>\n      <td>lasso</td>\n      <td>{'model_fitting__method__alpha': 0.0, 'random_...</td>\n      <td>((passthrough, ColumnTransformer(transformers=...</td>\n    </tr>\n    <tr>\n      <th>3</th>\n      <td>RF6</td>\n      <td>{'ccp_alpha': 0.13, 'criterion': 'mse', 'max_d...</td>\n      <td>RandomForestRegressor(ccp_alpha=0.13, max_dept...</td>\n    </tr>\n    <tr>\n      <th>4</th>\n      <td>RFe50</td>\n      <td>{'ccp_alpha': 1.0, 'criterion': 'mse', 'max_de...</td>\n      <td>RandomForestRegressor(ccp_alpha=1.0, max_depth...</td>\n    </tr>\n  </tbody>\n</table>\n</div>"
     },
     "metadata": {},
     "execution_count": 42
    }
   ]
  },
  {
   "source": [
    "# Cache predictions"
   ],
   "cell_type": "markdown",
   "metadata": {}
  },
  {
   "source": [
    "# Fit to train\n",
    "def safe_fit(model, train, test):\n",
    "    try:\n",
    "        return model.fit(train, test)\n",
    "    except:\n",
    "        return model\n",
    "\n",
    "candidates['estimator'].apply(lambda x: safe_fit(x, train[X], train[y]))\n",
    "\n",
    "def safe_predict(model, data):\n",
    "    try:\n",
    "        return model.predict(data)\n",
    "    except:\n",
    "        return np.nan\n",
    "\n",
    "# Predict on different datasets\n",
    "candidates['train_pred'] = candidates['estimator'].apply(lambda x: safe_predict(x, train[X]))\n",
    "candidates['val_pred'] = candidates['estimator'].apply(lambda x: safe_predict(x, validation[X]))\n",
    "candidates['test_pred'] = candidates['estimator'].apply(lambda x: safe_predict(x, test[X]))\n",
    "\n",
    "candidates = candidates.dropna()"
   ],
   "cell_type": "code",
   "metadata": {},
   "execution_count": 43,
   "outputs": [
    {
     "output_type": "stream",
     "name": "stderr",
     "text": [
      "/home/mitchellkwong/anaconda3/lib/python3.8/site-packages/sklearn/svm/_base.py:255: ConvergenceWarning: Solver terminated early (max_iter=10000).  Consider pre-processing your data with StandardScaler or MinMaxScaler.\n",
      "  warnings.warn('Solver terminated early (max_iter=%i).'\n",
      "/home/mitchellkwong/anaconda3/lib/python3.8/site-packages/sklearn/pipeline.py:346: UserWarning: With alpha=0, this algorithm does not converge well. You are advised to use the LinearRegression estimator\n",
      "  self._final_estimator.fit(Xt, y, **fit_params_last_step)\n",
      "/home/mitchellkwong/anaconda3/lib/python3.8/site-packages/sklearn/linear_model/_coordinate_descent.py:530: UserWarning: Coordinate descent with no regularization may lead to unexpected results and is discouraged.\n",
      "  model = cd_fast.enet_coordinate_descent(\n",
      "/home/mitchellkwong/anaconda3/lib/python3.8/site-packages/sklearn/linear_model/_coordinate_descent.py:530: ConvergenceWarning: Objective did not converge. You might want to increase the number of iterations. Duality gap: 2219498.5942467405, tolerance: 2037.2296504016065\n",
      "  model = cd_fast.enet_coordinate_descent(\n",
      "/home/mitchellkwong/anaconda3/lib/python3.8/site-packages/sklearn/svm/_base.py:255: ConvergenceWarning: Solver terminated early (max_iter=10000).  Consider pre-processing your data with StandardScaler or MinMaxScaler.\n",
      "  warnings.warn('Solver terminated early (max_iter=%i).'\n"
     ]
    }
   ]
  },
  {
   "source": [
    "# Generate Metrics"
   ],
   "cell_type": "markdown",
   "metadata": {}
  },
  {
   "cell_type": "code",
   "execution_count": 44,
   "metadata": {},
   "outputs": [
    {
     "output_type": "execute_result",
     "data": {
      "text/plain": [
       "         model                                             params  \\\n",
       "0   SVR_Radial  {'C': 1300, 'epsilon': 3.0, 'gamma': 0.05, 'ra...   \n",
       "1          RF3  {'ccp_alpha': 0.4, 'criterion': 'mse', 'max_de...   \n",
       "2          RF6  {'ccp_alpha': 0.13, 'criterion': 'mse', 'max_d...   \n",
       "3        RFe50  {'ccp_alpha': 1.0, 'criterion': 'mse', 'max_de...   \n",
       "4        ridge  {'model_fitting__method__alpha': 133.073073073...   \n",
       "5   regression  {'dim_reduction__method': RFECV(estimator=Line...   \n",
       "6        lasso  {'model_fitting__method__alpha': 0.0, 'random_...   \n",
       "7   elasticnet  {'model_fitting__method__l1_ratio': 1e-08, 'ra...   \n",
       "8           RF  {'criterion': 'mse', 'max_depth': 9, 'max_feat...   \n",
       "9     SVR_Poly  {'C': 1, 'degree': 2, 'epsilon': 0.8, 'gamma':...   \n",
       "10  SVR_Linear  {'C': 0.8, 'epsilon': 0.0025, 'random_state': ...   \n",
       "11         DT1  {'ccp_alpha': 0.01, 'max_depth': 9, 'max_featu...   \n",
       "12         DT2  {'ccp_alpha': 0.09526315789473684, 'max_depth'...   \n",
       "\n",
       "      train_mse      val_mse  \n",
       "0    836.609672  1265.690847  \n",
       "1    357.719938  1509.779416  \n",
       "2    739.795473  1523.013369  \n",
       "3    386.136015  1534.041902  \n",
       "4   2303.883259  1647.867402  \n",
       "5   2228.412243  1649.953010  \n",
       "6   2228.412243  1649.953010  \n",
       "7   2324.040990  1661.578498  \n",
       "8    849.784284  1905.309757  \n",
       "9   2327.551109  2014.325660  \n",
       "10  3524.853690  2149.461351  \n",
       "11   249.509734  2766.706542  \n",
       "12   577.909908  2813.886238  "
      ],
      "text/html": "<div>\n<style scoped>\n    .dataframe tbody tr th:only-of-type {\n        vertical-align: middle;\n    }\n\n    .dataframe tbody tr th {\n        vertical-align: top;\n    }\n\n    .dataframe thead th {\n        text-align: right;\n    }\n</style>\n<table border=\"1\" class=\"dataframe\">\n  <thead>\n    <tr style=\"text-align: right;\">\n      <th></th>\n      <th>model</th>\n      <th>params</th>\n      <th>train_mse</th>\n      <th>val_mse</th>\n    </tr>\n  </thead>\n  <tbody>\n    <tr>\n      <th>0</th>\n      <td>SVR_Radial</td>\n      <td>{'C': 1300, 'epsilon': 3.0, 'gamma': 0.05, 'ra...</td>\n      <td>836.609672</td>\n      <td>1265.690847</td>\n    </tr>\n    <tr>\n      <th>1</th>\n      <td>RF3</td>\n      <td>{'ccp_alpha': 0.4, 'criterion': 'mse', 'max_de...</td>\n      <td>357.719938</td>\n      <td>1509.779416</td>\n    </tr>\n    <tr>\n      <th>2</th>\n      <td>RF6</td>\n      <td>{'ccp_alpha': 0.13, 'criterion': 'mse', 'max_d...</td>\n      <td>739.795473</td>\n      <td>1523.013369</td>\n    </tr>\n    <tr>\n      <th>3</th>\n      <td>RFe50</td>\n      <td>{'ccp_alpha': 1.0, 'criterion': 'mse', 'max_de...</td>\n      <td>386.136015</td>\n      <td>1534.041902</td>\n    </tr>\n    <tr>\n      <th>4</th>\n      <td>ridge</td>\n      <td>{'model_fitting__method__alpha': 133.073073073...</td>\n      <td>2303.883259</td>\n      <td>1647.867402</td>\n    </tr>\n    <tr>\n      <th>5</th>\n      <td>regression</td>\n      <td>{'dim_reduction__method': RFECV(estimator=Line...</td>\n      <td>2228.412243</td>\n      <td>1649.953010</td>\n    </tr>\n    <tr>\n      <th>6</th>\n      <td>lasso</td>\n      <td>{'model_fitting__method__alpha': 0.0, 'random_...</td>\n      <td>2228.412243</td>\n      <td>1649.953010</td>\n    </tr>\n    <tr>\n      <th>7</th>\n      <td>elasticnet</td>\n      <td>{'model_fitting__method__l1_ratio': 1e-08, 'ra...</td>\n      <td>2324.040990</td>\n      <td>1661.578498</td>\n    </tr>\n    <tr>\n      <th>8</th>\n      <td>RF</td>\n      <td>{'criterion': 'mse', 'max_depth': 9, 'max_feat...</td>\n      <td>849.784284</td>\n      <td>1905.309757</td>\n    </tr>\n    <tr>\n      <th>9</th>\n      <td>SVR_Poly</td>\n      <td>{'C': 1, 'degree': 2, 'epsilon': 0.8, 'gamma':...</td>\n      <td>2327.551109</td>\n      <td>2014.325660</td>\n    </tr>\n    <tr>\n      <th>10</th>\n      <td>SVR_Linear</td>\n      <td>{'C': 0.8, 'epsilon': 0.0025, 'random_state': ...</td>\n      <td>3524.853690</td>\n      <td>2149.461351</td>\n    </tr>\n    <tr>\n      <th>11</th>\n      <td>DT1</td>\n      <td>{'ccp_alpha': 0.01, 'max_depth': 9, 'max_featu...</td>\n      <td>249.509734</td>\n      <td>2766.706542</td>\n    </tr>\n    <tr>\n      <th>12</th>\n      <td>DT2</td>\n      <td>{'ccp_alpha': 0.09526315789473684, 'max_depth'...</td>\n      <td>577.909908</td>\n      <td>2813.886238</td>\n    </tr>\n  </tbody>\n</table>\n</div>"
     },
     "metadata": {},
     "execution_count": 44
    }
   ],
   "source": [
    "from sklearn.metrics import mean_squared_error\n",
    "\n",
    "candidates['train_mse'] = candidates['train_pred'].apply(lambda x: mean_squared_error(train[y], x))\n",
    "candidates['val_mse'] = candidates['val_pred'].apply(lambda x: mean_squared_error(validation[y], x))\n",
    "\n",
    "candidates.sort_values('val_mse')[['model', 'params', 'train_mse', 'val_mse']].reset_index(drop=True).head(30)"
   ]
  },
  {
   "source": [
    "# Save predictions by final candidates"
   ],
   "cell_type": "markdown",
   "metadata": {}
  },
  {
   "cell_type": "code",
   "execution_count": 45,
   "metadata": {},
   "outputs": [],
   "source": [
    "candidates = candidates[candidates['val_mse'] <= 2000]\n",
    "\n",
    "# Save predictions\n",
    "candidates['train_pred'].apply(pd.Series).T.to_csv('predictions/train.csv')\n",
    "candidates['val_pred'].apply(pd.Series).T.to_csv('predictions/validation.csv')\n",
    "candidates['test_pred'].apply(pd.Series).T.to_csv('predictions/test.csv')"
   ]
  }
 ]
}