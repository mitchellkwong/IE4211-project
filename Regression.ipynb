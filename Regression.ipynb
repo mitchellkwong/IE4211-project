{
 "metadata": {
  "language_info": {
   "codemirror_mode": {
    "name": "ipython",
    "version": 3
   },
   "file_extension": ".py",
   "mimetype": "text/x-python",
   "name": "python",
   "nbconvert_exporter": "python",
   "pygments_lexer": "ipython3",
   "version": "3.7.3-final"
  },
  "orig_nbformat": 2,
  "kernelspec": {
   "name": "python3",
   "display_name": "Python 3.7.3 64-bit (conda)",
   "metadata": {
    "interpreter": {
     "hash": "9a9d553a929dcdd3d1765802cd4a01d7bfb63b86fd958685c07e3eac48b3d0f3"
    }
   }
  }
 },
 "nbformat": 4,
 "nbformat_minor": 2,
 "cells": [
  {
   "cell_type": "code",
   "execution_count": 1,
   "metadata": {},
   "outputs": [],
   "source": [
    "# Automatically update imports\n",
    "%load_ext autoreload\n",
    "%autoreload 2\n",
    "\n",
    "# Workaround for some autocomplete bug\n",
    "%config Completer.use_jedi = False"
   ]
  },
  {
   "cell_type": "code",
   "execution_count": 2,
   "metadata": {},
   "outputs": [],
   "source": [
    "import matplotlib.pyplot as plt\n",
    "import numpy as np\n",
    "import pandas as pd\n",
    "\n",
    "from data import train\n",
    "from data import y, X, categorical, numerical"
   ]
  },
  {
   "cell_type": "code",
   "execution_count": 3,
   "metadata": {},
   "outputs": [
    {
     "output_type": "execute_result",
     "data": {
      "text/plain": [
       "      attribute2  clickVolume  avgOriginalUnitPrice  avgFinalUnitPrice  \\\n",
       "1404    4.850075     3.082306              4.281904           3.791205   \n",
       "2184    2.910045     0.094506              1.709888           1.637009   \n",
       "796     4.850075     0.217541              0.994800           1.103595   \n",
       "25      3.880060     0.327738              1.566200           1.306937   \n",
       "1745    4.850075     0.389791              2.506703           2.351882   \n",
       "...          ...          ...                   ...                ...   \n",
       "1607    2.910045     0.148356              0.953555           0.978077   \n",
       "1814    3.395053     0.818453              1.120767           1.021958   \n",
       "1428    3.880060     0.077031              1.148068           1.164598   \n",
       "2441    3.880060     0.342360              1.135136           1.255794   \n",
       "271     4.850075     1.912934              2.557647           2.971503   \n",
       "\n",
       "      ma14SalesVolume    meanAge    gender  meanEducation  maritalStatus  \\\n",
       "1404         6.480146   7.813408  1.380382      11.580054       2.201123   \n",
       "2184         0.059201   7.600842  0.000000      10.896544       1.410243   \n",
       "796          0.193577   7.016162  0.849466      11.865126       0.987170   \n",
       "25           0.509315   6.876952  0.000000      10.805739       1.645284   \n",
       "1745         0.265934   8.667627  1.162427      11.653248       3.117380   \n",
       "...               ...        ...       ...            ...            ...   \n",
       "1607         0.487702   6.334035  2.760765      10.170108       1.480755   \n",
       "1814         0.853244   8.293363  1.310193      10.561266       2.467926   \n",
       "1428         0.765853  10.134456  1.840510      13.983898       4.935852   \n",
       "2441         0.270633   8.664960  0.828229      11.017617       3.701889   \n",
       "271          1.382293   7.540722  2.012083      11.476042       2.235899   \n",
       "\n",
       "          plus  ...  attribute1_2.0  attribute1_3.0  attribute1_4.0  \\\n",
       "1404  1.650476  ...               0               1               0   \n",
       "2184  1.856786  ...               0               1               0   \n",
       "796   0.866500  ...               0               1               0   \n",
       "25    1.624688  ...               0               1               0   \n",
       "1745  1.476989  ...               0               1               0   \n",
       "...        ...  ...             ...             ...             ...   \n",
       "1607  1.856786  ...               1               0               0   \n",
       "1814  1.066959  ...               1               0               0   \n",
       "1428  4.332500  ...               0               1               0   \n",
       "2441  0.722083  ...               0               1               0   \n",
       "271   2.099596  ...               0               1               0   \n",
       "\n",
       "      weekday_1  weekday_2  weekday_3  weekday_4  weekday_5  weekday_6  \\\n",
       "1404          0          0          0          0          1          0   \n",
       "2184          0          0          0          0          0          1   \n",
       "796           0          0          0          0          0          1   \n",
       "25            0          0          1          0          0          0   \n",
       "1745          0          0          1          0          0          0   \n",
       "...         ...        ...        ...        ...        ...        ...   \n",
       "1607          0          0          0          1          0          0   \n",
       "1814          0          0          0          0          0          0   \n",
       "1428          0          0          0          0          1          0   \n",
       "2441          0          1          0          0          0          0   \n",
       "271           0          0          0          0          1          0   \n",
       "\n",
       "      weekday_7  \n",
       "1404          0  \n",
       "2184          0  \n",
       "796           0  \n",
       "25            0  \n",
       "1745          0  \n",
       "...         ...  \n",
       "1607          0  \n",
       "1814          1  \n",
       "1428          0  \n",
       "2441          0  \n",
       "271           0  \n",
       "\n",
       "[1992 rows x 128 columns]"
      ],
      "text/html": "<div>\n<style scoped>\n    .dataframe tbody tr th:only-of-type {\n        vertical-align: middle;\n    }\n\n    .dataframe tbody tr th {\n        vertical-align: top;\n    }\n\n    .dataframe thead th {\n        text-align: right;\n    }\n</style>\n<table border=\"1\" class=\"dataframe\">\n  <thead>\n    <tr style=\"text-align: right;\">\n      <th></th>\n      <th>attribute2</th>\n      <th>clickVolume</th>\n      <th>avgOriginalUnitPrice</th>\n      <th>avgFinalUnitPrice</th>\n      <th>ma14SalesVolume</th>\n      <th>meanAge</th>\n      <th>gender</th>\n      <th>meanEducation</th>\n      <th>maritalStatus</th>\n      <th>plus</th>\n      <th>...</th>\n      <th>attribute1_2.0</th>\n      <th>attribute1_3.0</th>\n      <th>attribute1_4.0</th>\n      <th>weekday_1</th>\n      <th>weekday_2</th>\n      <th>weekday_3</th>\n      <th>weekday_4</th>\n      <th>weekday_5</th>\n      <th>weekday_6</th>\n      <th>weekday_7</th>\n    </tr>\n  </thead>\n  <tbody>\n    <tr>\n      <th>1404</th>\n      <td>4.850075</td>\n      <td>3.082306</td>\n      <td>4.281904</td>\n      <td>3.791205</td>\n      <td>6.480146</td>\n      <td>7.813408</td>\n      <td>1.380382</td>\n      <td>11.580054</td>\n      <td>2.201123</td>\n      <td>1.650476</td>\n      <td>...</td>\n      <td>0</td>\n      <td>1</td>\n      <td>0</td>\n      <td>0</td>\n      <td>0</td>\n      <td>0</td>\n      <td>0</td>\n      <td>1</td>\n      <td>0</td>\n      <td>0</td>\n    </tr>\n    <tr>\n      <th>2184</th>\n      <td>2.910045</td>\n      <td>0.094506</td>\n      <td>1.709888</td>\n      <td>1.637009</td>\n      <td>0.059201</td>\n      <td>7.600842</td>\n      <td>0.000000</td>\n      <td>10.896544</td>\n      <td>1.410243</td>\n      <td>1.856786</td>\n      <td>...</td>\n      <td>0</td>\n      <td>1</td>\n      <td>0</td>\n      <td>0</td>\n      <td>0</td>\n      <td>0</td>\n      <td>0</td>\n      <td>0</td>\n      <td>1</td>\n      <td>0</td>\n    </tr>\n    <tr>\n      <th>796</th>\n      <td>4.850075</td>\n      <td>0.217541</td>\n      <td>0.994800</td>\n      <td>1.103595</td>\n      <td>0.193577</td>\n      <td>7.016162</td>\n      <td>0.849466</td>\n      <td>11.865126</td>\n      <td>0.987170</td>\n      <td>0.866500</td>\n      <td>...</td>\n      <td>0</td>\n      <td>1</td>\n      <td>0</td>\n      <td>0</td>\n      <td>0</td>\n      <td>0</td>\n      <td>0</td>\n      <td>0</td>\n      <td>1</td>\n      <td>0</td>\n    </tr>\n    <tr>\n      <th>25</th>\n      <td>3.880060</td>\n      <td>0.327738</td>\n      <td>1.566200</td>\n      <td>1.306937</td>\n      <td>0.509315</td>\n      <td>6.876952</td>\n      <td>0.000000</td>\n      <td>10.805739</td>\n      <td>1.645284</td>\n      <td>1.624688</td>\n      <td>...</td>\n      <td>0</td>\n      <td>1</td>\n      <td>0</td>\n      <td>0</td>\n      <td>0</td>\n      <td>1</td>\n      <td>0</td>\n      <td>0</td>\n      <td>0</td>\n      <td>0</td>\n    </tr>\n    <tr>\n      <th>1745</th>\n      <td>4.850075</td>\n      <td>0.389791</td>\n      <td>2.506703</td>\n      <td>2.351882</td>\n      <td>0.265934</td>\n      <td>8.667627</td>\n      <td>1.162427</td>\n      <td>11.653248</td>\n      <td>3.117380</td>\n      <td>1.476989</td>\n      <td>...</td>\n      <td>0</td>\n      <td>1</td>\n      <td>0</td>\n      <td>0</td>\n      <td>0</td>\n      <td>1</td>\n      <td>0</td>\n      <td>0</td>\n      <td>0</td>\n      <td>0</td>\n    </tr>\n    <tr>\n      <th>...</th>\n      <td>...</td>\n      <td>...</td>\n      <td>...</td>\n      <td>...</td>\n      <td>...</td>\n      <td>...</td>\n      <td>...</td>\n      <td>...</td>\n      <td>...</td>\n      <td>...</td>\n      <td>...</td>\n      <td>...</td>\n      <td>...</td>\n      <td>...</td>\n      <td>...</td>\n      <td>...</td>\n      <td>...</td>\n      <td>...</td>\n      <td>...</td>\n      <td>...</td>\n      <td>...</td>\n    </tr>\n    <tr>\n      <th>1607</th>\n      <td>2.910045</td>\n      <td>0.148356</td>\n      <td>0.953555</td>\n      <td>0.978077</td>\n      <td>0.487702</td>\n      <td>6.334035</td>\n      <td>2.760765</td>\n      <td>10.170108</td>\n      <td>1.480755</td>\n      <td>1.856786</td>\n      <td>...</td>\n      <td>1</td>\n      <td>0</td>\n      <td>0</td>\n      <td>0</td>\n      <td>0</td>\n      <td>0</td>\n      <td>1</td>\n      <td>0</td>\n      <td>0</td>\n      <td>0</td>\n    </tr>\n    <tr>\n      <th>1814</th>\n      <td>3.395053</td>\n      <td>0.818453</td>\n      <td>1.120767</td>\n      <td>1.021958</td>\n      <td>0.853244</td>\n      <td>8.293363</td>\n      <td>1.310193</td>\n      <td>10.561266</td>\n      <td>2.467926</td>\n      <td>1.066959</td>\n      <td>...</td>\n      <td>1</td>\n      <td>0</td>\n      <td>0</td>\n      <td>0</td>\n      <td>0</td>\n      <td>0</td>\n      <td>0</td>\n      <td>0</td>\n      <td>0</td>\n      <td>1</td>\n    </tr>\n    <tr>\n      <th>1428</th>\n      <td>3.880060</td>\n      <td>0.077031</td>\n      <td>1.148068</td>\n      <td>1.164598</td>\n      <td>0.765853</td>\n      <td>10.134456</td>\n      <td>1.840510</td>\n      <td>13.983898</td>\n      <td>4.935852</td>\n      <td>4.332500</td>\n      <td>...</td>\n      <td>0</td>\n      <td>1</td>\n      <td>0</td>\n      <td>0</td>\n      <td>0</td>\n      <td>0</td>\n      <td>0</td>\n      <td>1</td>\n      <td>0</td>\n      <td>0</td>\n    </tr>\n    <tr>\n      <th>2441</th>\n      <td>3.880060</td>\n      <td>0.342360</td>\n      <td>1.135136</td>\n      <td>1.255794</td>\n      <td>0.270633</td>\n      <td>8.664960</td>\n      <td>0.828229</td>\n      <td>11.017617</td>\n      <td>3.701889</td>\n      <td>0.722083</td>\n      <td>...</td>\n      <td>0</td>\n      <td>1</td>\n      <td>0</td>\n      <td>0</td>\n      <td>1</td>\n      <td>0</td>\n      <td>0</td>\n      <td>0</td>\n      <td>0</td>\n      <td>0</td>\n    </tr>\n    <tr>\n      <th>271</th>\n      <td>4.850075</td>\n      <td>1.912934</td>\n      <td>2.557647</td>\n      <td>2.971503</td>\n      <td>1.382293</td>\n      <td>7.540722</td>\n      <td>2.012083</td>\n      <td>11.476042</td>\n      <td>2.235899</td>\n      <td>2.099596</td>\n      <td>...</td>\n      <td>0</td>\n      <td>1</td>\n      <td>0</td>\n      <td>0</td>\n      <td>0</td>\n      <td>0</td>\n      <td>0</td>\n      <td>1</td>\n      <td>0</td>\n      <td>0</td>\n    </tr>\n  </tbody>\n</table>\n<p>1992 rows × 128 columns</p>\n</div>"
     },
     "metadata": {},
     "execution_count": 3
    }
   ],
   "source": [
    "train"
   ]
  },
  {
   "cell_type": "code",
   "execution_count": null,
   "metadata": {},
   "outputs": [],
   "source": []
  }
 ]
}