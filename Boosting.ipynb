{
 "metadata": {
  "language_info": {
   "codemirror_mode": {
    "name": "ipython",
    "version": 3
   },
   "file_extension": ".py",
   "mimetype": "text/x-python",
   "name": "python",
   "nbconvert_exporter": "python",
   "pygments_lexer": "ipython3",
   "version": 3
  },
  "orig_nbformat": 2
 },
 "nbformat": 4,
 "nbformat_minor": 2,
 "cells": [
  {
   "cell_type": "code",
   "execution_count": null,
   "metadata": {},
   "outputs": [],
   "source": [
    "from data import train\n",
    "from sklearn.svm import SVR\n",
    "import numpy as np\n",
    "from multiprocessing import cpu_count\n",
    "from utils import StandardizedGridSearchCV\n",
    "from sklearn.model_selection import GridSearchCV\n",
    "from sklearn.metrics import mean_squared_error as MSE\n",
    "import pandas as pd"
   ]
  },
  {
   "cell_type": "code",
   "execution_count": null,
   "metadata": {},
   "outputs": [],
   "source": [
    "X=train.drop('sales', axis=1)\n",
    "y=train.sales"
   ]
  },
  {
   "cell_type": "code",
   "execution_count": null,
   "metadata": {},
   "outputs": [],
   "source": [
    "from data import train_train\n",
    "train_train"
   ]
  },
  {
   "cell_type": "code",
   "execution_count": null,
   "metadata": {},
   "outputs": [],
   "source": [
    "#Boosting\n",
    "from sklearn.ensemble import GradientBoostingRegressor\n",
    "\n",
    "GB = GradientBoostingRegressor()\n",
    "GB.fit(X,y)\n",
    "\n",
    "paramr = {'n_estimators' : (10,50,100)\n",
    "              , 'criterion' : ('mse','mae')\n",
    "              , 'max_leaf_nodes' : (np.logspace(-1, 0, 3) * train.shape[0]).astype(int),\n",
    "              , 'max_depth' : (3,5,7,9,10)\n",
    "              , 'max_features' : (None,'auto','sqrt')\n",
    "              , 'min_samples_split' : (2,4,6)\n",
    "            #   , 'ccp_alpha' : (0.01,0.02,0.03,0.04)\n",
    "             }\n",
    "             #depth = 10,12,14\n",
    "\n",
    "GB_Grid = StandardizedGridSearchCV(GB,paramr)\n",
    "GB_Grid.fit(X,y)\n",
    "\n",
    "(*, loss='deviance', learning_rate=0.1, n_estimators=100, subsample=1.0, criterion='friedman_mse', min_samples_split=2, min_samples_leaf=1, min_weight_fraction_leaf=0.0, max_depth=3, min_impurity_decrease=0.0, min_impurity_split=None, init=None, random_state=None, max_features=None, verbose=0, max_leaf_nodes=None, warm_start=False, validation_fraction=0.1, n_iter_no_change=None, tol=0.0001, ccp_alpha=0.0)[source]"
   ]
  }
 ]
}