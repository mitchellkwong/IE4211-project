{
 "metadata": {
  "language_info": {
   "codemirror_mode": {
    "name": "ipython",
    "version": 3
   },
   "file_extension": ".py",
   "mimetype": "text/x-python",
   "name": "python",
   "nbconvert_exporter": "python",
   "pygments_lexer": "ipython3",
   "version": "3.8.8"
  },
  "orig_nbformat": 2,
  "kernelspec": {
   "name": "python388jvsc74a57bd071677de9aba17018a39f7c0f2bbb29b4bc1c1991dcce88d5d6c4518b62318688",
   "display_name": "Python 3.8.8 64-bit ('base': conda)"
  },
  "metadata": {
   "interpreter": {
    "hash": "71677de9aba17018a39f7c0f2bbb29b4bc1c1991dcce88d5d6c4518b62318688"
   }
  }
 },
 "nbformat": 4,
 "nbformat_minor": 2,
 "cells": [
  {
   "cell_type": "code",
<<<<<<< HEAD
   "execution_count": 2,
=======
   "execution_count": 4,
>>>>>>> main
   "metadata": {},
   "outputs": [
    {
     "output_type": "execute_result",
     "data": {
      "text/plain": [
       "   productID  brandID  attribute1  attribute2  clickVolume  \\\n",
       "0         35        2         4.0       100.0       1772.0   \n",
       "1         52       32         3.0       100.0        837.0   \n",
       "2         23       25         3.0       100.0        596.0   \n",
       "3         49       25         3.0        80.0        726.0   \n",
       "4          4       25         3.0        70.0       1664.0   \n",
       "\n",
       "   avgOriginalUnitPrice  avgFinalUnitPrice  ma14SalesVolume  weekday  \\\n",
       "0                118.00          57.293333        26.357143        5   \n",
       "1                250.00         250.000000        34.000000        2   \n",
       "2                 69.90          59.900000        45.142857        7   \n",
       "3                139.90          83.212500        11.357143        3   \n",
       "4                127.03         112.175000        29.428571        1   \n",
       "\n",
       "     meanAge    gender  meanEducation  maritalStatus      plus  \\\n",
       "0  29.411765  0.078431       3.148936       0.551020  0.307692   \n",
       "1  27.142857  0.285714       3.285714       0.571429  0.285714   \n",
       "2  33.333333  0.333333       2.500000       0.666667  0.200000   \n",
       "3  25.333333  0.400000       3.000000       0.500000  0.200000   \n",
       "4  30.461538  0.346154       2.916667       0.423077  0.153846   \n",
       "\n",
       "   meanPurchasePower  meanUserLevel  meanCityLevel      sales  inventory  \n",
<<<<<<< HEAD
       "0           2.346939       2.596154       2.140000  41.996004  60.272478  \n",
       "1           2.142857       3.285714       1.800000   0.811141  10.380473  \n",
       "2           2.666667       2.000000       3.000000   1.755115  10.243208  \n",
       "3           2.714286       2.400000       2.076923   0.851855   9.607574  \n",
       "4           2.423077       4.717949       1.840000  32.983933  42.373595  "
      ],
      "text/html": "<div>\n<style scoped>\n    .dataframe tbody tr th:only-of-type {\n        vertical-align: middle;\n    }\n\n    .dataframe tbody tr th {\n        vertical-align: top;\n    }\n\n    .dataframe thead th {\n        text-align: right;\n    }\n</style>\n<table border=\"1\" class=\"dataframe\">\n  <thead>\n    <tr style=\"text-align: right;\">\n      <th></th>\n      <th>productID</th>\n      <th>brandID</th>\n      <th>attribute1</th>\n      <th>attribute2</th>\n      <th>clickVolume</th>\n      <th>avgOriginalUnitPrice</th>\n      <th>avgFinalUnitPrice</th>\n      <th>ma14SalesVolume</th>\n      <th>weekday</th>\n      <th>meanAge</th>\n      <th>gender</th>\n      <th>meanEducation</th>\n      <th>maritalStatus</th>\n      <th>plus</th>\n      <th>meanPurchasePower</th>\n      <th>meanUserLevel</th>\n      <th>meanCityLevel</th>\n      <th>sales</th>\n      <th>inventory</th>\n    </tr>\n  </thead>\n  <tbody>\n    <tr>\n      <th>0</th>\n      <td>35</td>\n      <td>2</td>\n      <td>4.0</td>\n      <td>100.0</td>\n      <td>1772.0</td>\n      <td>118.00</td>\n      <td>57.293333</td>\n      <td>26.357143</td>\n      <td>5</td>\n      <td>29.411765</td>\n      <td>0.078431</td>\n      <td>3.148936</td>\n      <td>0.551020</td>\n      <td>0.307692</td>\n      <td>2.346939</td>\n      <td>2.596154</td>\n      <td>2.140000</td>\n      <td>41.996004</td>\n      <td>60.272478</td>\n    </tr>\n    <tr>\n      <th>1</th>\n      <td>52</td>\n      <td>32</td>\n      <td>3.0</td>\n      <td>100.0</td>\n      <td>837.0</td>\n      <td>250.00</td>\n      <td>250.000000</td>\n      <td>34.000000</td>\n      <td>2</td>\n      <td>27.142857</td>\n      <td>0.285714</td>\n      <td>3.285714</td>\n      <td>0.571429</td>\n      <td>0.285714</td>\n      <td>2.142857</td>\n      <td>3.285714</td>\n      <td>1.800000</td>\n      <td>0.811141</td>\n      <td>10.380473</td>\n    </tr>\n    <tr>\n      <th>2</th>\n      <td>23</td>\n      <td>25</td>\n      <td>3.0</td>\n      <td>100.0</td>\n      <td>596.0</td>\n      <td>69.90</td>\n      <td>59.900000</td>\n      <td>45.142857</td>\n      <td>7</td>\n      <td>33.333333</td>\n      <td>0.333333</td>\n      <td>2.500000</td>\n      <td>0.666667</td>\n      <td>0.200000</td>\n      <td>2.666667</td>\n      <td>2.000000</td>\n      <td>3.000000</td>\n      <td>1.755115</td>\n      <td>10.243208</td>\n    </tr>\n    <tr>\n      <th>3</th>\n      <td>49</td>\n      <td>25</td>\n      <td>3.0</td>\n      <td>80.0</td>\n      <td>726.0</td>\n      <td>139.90</td>\n      <td>83.212500</td>\n      <td>11.357143</td>\n      <td>3</td>\n      <td>25.333333</td>\n      <td>0.400000</td>\n      <td>3.000000</td>\n      <td>0.500000</td>\n      <td>0.200000</td>\n      <td>2.714286</td>\n      <td>2.400000</td>\n      <td>2.076923</td>\n      <td>0.851855</td>\n      <td>9.607574</td>\n    </tr>\n    <tr>\n      <th>4</th>\n      <td>4</td>\n      <td>25</td>\n      <td>3.0</td>\n      <td>70.0</td>\n      <td>1664.0</td>\n      <td>127.03</td>\n      <td>112.175000</td>\n      <td>29.428571</td>\n      <td>1</td>\n      <td>30.461538</td>\n      <td>0.346154</td>\n      <td>2.916667</td>\n      <td>0.423077</td>\n      <td>0.153846</td>\n      <td>2.423077</td>\n      <td>4.717949</td>\n      <td>1.840000</td>\n      <td>32.983933</td>\n      <td>42.373595</td>\n    </tr>\n  </tbody>\n</table>\n</div>"
     },
     "metadata": {},
     "execution_count": 2
=======
       "0           2.346939       2.596154       2.140000  45.725783  45.725783  \n",
       "1           2.142857       3.285714       1.800000  20.656609  20.656609  \n",
       "2           2.666667       2.000000       3.000000   5.173785   5.173785  \n",
       "3           2.714286       2.400000       2.076923   2.928392   2.928392  \n",
       "4           2.423077       4.717949       1.840000  36.142981  36.142981  "
      ],
      "text/html": "<div>\n<style scoped>\n    .dataframe tbody tr th:only-of-type {\n        vertical-align: middle;\n    }\n\n    .dataframe tbody tr th {\n        vertical-align: top;\n    }\n\n    .dataframe thead th {\n        text-align: right;\n    }\n</style>\n<table border=\"1\" class=\"dataframe\">\n  <thead>\n    <tr style=\"text-align: right;\">\n      <th></th>\n      <th>productID</th>\n      <th>brandID</th>\n      <th>attribute1</th>\n      <th>attribute2</th>\n      <th>clickVolume</th>\n      <th>avgOriginalUnitPrice</th>\n      <th>avgFinalUnitPrice</th>\n      <th>ma14SalesVolume</th>\n      <th>weekday</th>\n      <th>meanAge</th>\n      <th>gender</th>\n      <th>meanEducation</th>\n      <th>maritalStatus</th>\n      <th>plus</th>\n      <th>meanPurchasePower</th>\n      <th>meanUserLevel</th>\n      <th>meanCityLevel</th>\n      <th>sales</th>\n      <th>inventory</th>\n    </tr>\n  </thead>\n  <tbody>\n    <tr>\n      <th>0</th>\n      <td>35</td>\n      <td>2</td>\n      <td>4.0</td>\n      <td>100.0</td>\n      <td>1772.0</td>\n      <td>118.00</td>\n      <td>57.293333</td>\n      <td>26.357143</td>\n      <td>5</td>\n      <td>29.411765</td>\n      <td>0.078431</td>\n      <td>3.148936</td>\n      <td>0.551020</td>\n      <td>0.307692</td>\n      <td>2.346939</td>\n      <td>2.596154</td>\n      <td>2.140000</td>\n      <td>45.725783</td>\n      <td>45.725783</td>\n    </tr>\n    <tr>\n      <th>1</th>\n      <td>52</td>\n      <td>32</td>\n      <td>3.0</td>\n      <td>100.0</td>\n      <td>837.0</td>\n      <td>250.00</td>\n      <td>250.000000</td>\n      <td>34.000000</td>\n      <td>2</td>\n      <td>27.142857</td>\n      <td>0.285714</td>\n      <td>3.285714</td>\n      <td>0.571429</td>\n      <td>0.285714</td>\n      <td>2.142857</td>\n      <td>3.285714</td>\n      <td>1.800000</td>\n      <td>20.656609</td>\n      <td>20.656609</td>\n    </tr>\n    <tr>\n      <th>2</th>\n      <td>23</td>\n      <td>25</td>\n      <td>3.0</td>\n      <td>100.0</td>\n      <td>596.0</td>\n      <td>69.90</td>\n      <td>59.900000</td>\n      <td>45.142857</td>\n      <td>7</td>\n      <td>33.333333</td>\n      <td>0.333333</td>\n      <td>2.500000</td>\n      <td>0.666667</td>\n      <td>0.200000</td>\n      <td>2.666667</td>\n      <td>2.000000</td>\n      <td>3.000000</td>\n      <td>5.173785</td>\n      <td>5.173785</td>\n    </tr>\n    <tr>\n      <th>3</th>\n      <td>49</td>\n      <td>25</td>\n      <td>3.0</td>\n      <td>80.0</td>\n      <td>726.0</td>\n      <td>139.90</td>\n      <td>83.212500</td>\n      <td>11.357143</td>\n      <td>3</td>\n      <td>25.333333</td>\n      <td>0.400000</td>\n      <td>3.000000</td>\n      <td>0.500000</td>\n      <td>0.200000</td>\n      <td>2.714286</td>\n      <td>2.400000</td>\n      <td>2.076923</td>\n      <td>2.928392</td>\n      <td>2.928392</td>\n    </tr>\n    <tr>\n      <th>4</th>\n      <td>4</td>\n      <td>25</td>\n      <td>3.0</td>\n      <td>70.0</td>\n      <td>1664.0</td>\n      <td>127.03</td>\n      <td>112.175000</td>\n      <td>29.428571</td>\n      <td>1</td>\n      <td>30.461538</td>\n      <td>0.346154</td>\n      <td>2.916667</td>\n      <td>0.423077</td>\n      <td>0.153846</td>\n      <td>2.423077</td>\n      <td>4.717949</td>\n      <td>1.840000</td>\n      <td>36.142981</td>\n      <td>36.142981</td>\n    </tr>\n  </tbody>\n</table>\n</div>"
     },
     "metadata": {},
     "execution_count": 4
>>>>>>> main
    }
   ],
   "source": [
    "import matplotlib.pyplot as plt\n",
    "import numpy as np\n",
    "import pandas as pd\n",
    "import seaborn as sns\n",
    "\n",
    "from data import train, validation\n",
    "from data import y\n",
    "from utils import StandardizedGridSearchCV\n",
    "\n",
    "# Load cached ensemble model\n",
    "ensemble = StandardizedGridSearchCV.load('ensemble.p')\n",
    "ensemble = ensemble.best_estimator_\n",
    "\n",
    "# Load sub model predictions (ensemble features)\n",
    "preds_train = pd.read_csv('predictions/train.csv', index_col=0)\n",
    "preds_validation = pd.read_csv('predictions/validation.csv', index_col=0) \n",
    "preds_test = pd.read_csv('predictions/test.csv', index_col=0)\n",
    "\n",
    "# Fit ensemble on entire test set\n",
    "ensemble_X = pd.concat([preds_train, preds_validation])\n",
    "ensemble_y = pd.concat([train[y], validation[y]])\n",
    "ensemble.fit(ensemble_X, ensemble_y)\n",
    "\n",
    "# Predict on test set\n",
    "y_pred = ensemble.predict(preds_test)\n",
    "y_pred = np.maximum(0, y_pred)\n",
    "\n",
    "# Use sales forecast as inventory decision\n",
    "submission = pd.read_csv('data/Data-test.csv', index_col=0)\n",
    "submission['sales'] = np.maximum(0, preds_test.iloc[:, 0])\n",
    "submission['inventory'] = np.maximum(0, y_pred)\n",
    "\n",
    "# Check submission format\n",
    "submission.head()"
   ]
  },
  {
   "cell_type": "code",
<<<<<<< HEAD
   "execution_count": 3,
=======
   "execution_count": 5,
>>>>>>> main
   "metadata": {},
   "outputs": [],
   "source": [
    "# Export submission\n",
    "submission.to_csv('group11.csv')"
   ]
  }
 ]
}