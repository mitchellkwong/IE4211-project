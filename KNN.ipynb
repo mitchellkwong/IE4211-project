{
 "metadata": {
  "language_info": {
   "codemirror_mode": {
    "name": "ipython",
    "version": 3
   },
   "file_extension": ".py",
   "mimetype": "text/x-python",
   "name": "python",
   "nbconvert_exporter": "python",
   "pygments_lexer": "ipython3",
   "version": "3.8.5"
  },
  "orig_nbformat": 2,
  "kernelspec": {
   "name": "python385jvsc74a57bd0289bf3b741c0963f252d70d4a517e30178c9568230d8797aa390719fb990fb7b",
   "display_name": "Python 3.8.5 64-bit ('base': conda)"
  }
 },
 "nbformat": 4,
 "nbformat_minor": 2,
 "cells": [
  {
   "cell_type": "code",
   "execution_count": 2,
   "metadata": {},
   "outputs": [],
   "source": [
    "from data import train"
   ]
  },
  {
   "cell_type": "code",
   "execution_count": 3,
   "metadata": {},
   "outputs": [
    {
     "output_type": "execute_result",
     "data": {
      "text/plain": [
       "      attribute2  clickVolume  ...  weekday_6  weekday_7\n",
       "1404    4.850075     3.082306  ...          0          0\n",
       "2184    2.910045     0.094506  ...          1          0\n",
       "796     4.850075     0.217541  ...          1          0\n",
       "25      3.880060     0.327738  ...          0          0\n",
       "1745    4.850075     0.389791  ...          0          0\n",
       "\n",
       "[5 rows x 128 columns]"
      ],
      "text/html": "<div>\n<style scoped>\n    .dataframe tbody tr th:only-of-type {\n        vertical-align: middle;\n    }\n\n    .dataframe tbody tr th {\n        vertical-align: top;\n    }\n\n    .dataframe thead th {\n        text-align: right;\n    }\n</style>\n<table border=\"1\" class=\"dataframe\">\n  <thead>\n    <tr style=\"text-align: right;\">\n      <th></th>\n      <th>attribute2</th>\n      <th>clickVolume</th>\n      <th>avgOriginalUnitPrice</th>\n      <th>avgFinalUnitPrice</th>\n      <th>ma14SalesVolume</th>\n      <th>meanAge</th>\n      <th>gender</th>\n      <th>meanEducation</th>\n      <th>maritalStatus</th>\n      <th>plus</th>\n      <th>meanPurchasePower</th>\n      <th>meanUserLevel</th>\n      <th>meanCityLevel</th>\n      <th>sales</th>\n      <th>productID_0</th>\n      <th>productID_1</th>\n      <th>productID_2</th>\n      <th>productID_3</th>\n      <th>productID_4</th>\n      <th>productID_5</th>\n      <th>productID_6</th>\n      <th>productID_7</th>\n      <th>productID_8</th>\n      <th>productID_9</th>\n      <th>productID_10</th>\n      <th>productID_11</th>\n      <th>productID_12</th>\n      <th>productID_13</th>\n      <th>productID_14</th>\n      <th>productID_15</th>\n      <th>productID_16</th>\n      <th>productID_17</th>\n      <th>productID_18</th>\n      <th>productID_19</th>\n      <th>productID_20</th>\n      <th>productID_21</th>\n      <th>productID_22</th>\n      <th>productID_23</th>\n      <th>productID_24</th>\n      <th>productID_25</th>\n      <th>...</th>\n      <th>productID_74</th>\n      <th>productID_75</th>\n      <th>productID_76</th>\n      <th>brandID_2</th>\n      <th>brandID_3</th>\n      <th>brandID_4</th>\n      <th>brandID_7</th>\n      <th>brandID_8</th>\n      <th>brandID_9</th>\n      <th>brandID_10</th>\n      <th>brandID_11</th>\n      <th>brandID_12</th>\n      <th>brandID_14</th>\n      <th>brandID_15</th>\n      <th>brandID_16</th>\n      <th>brandID_17</th>\n      <th>brandID_18</th>\n      <th>brandID_19</th>\n      <th>brandID_20</th>\n      <th>brandID_21</th>\n      <th>brandID_22</th>\n      <th>brandID_24</th>\n      <th>brandID_25</th>\n      <th>brandID_26</th>\n      <th>brandID_28</th>\n      <th>brandID_29</th>\n      <th>brandID_30</th>\n      <th>brandID_32</th>\n      <th>brandID_33</th>\n      <th>attribute1_1.0</th>\n      <th>attribute1_2.0</th>\n      <th>attribute1_3.0</th>\n      <th>attribute1_4.0</th>\n      <th>weekday_1</th>\n      <th>weekday_2</th>\n      <th>weekday_3</th>\n      <th>weekday_4</th>\n      <th>weekday_5</th>\n      <th>weekday_6</th>\n      <th>weekday_7</th>\n    </tr>\n  </thead>\n  <tbody>\n    <tr>\n      <th>1404</th>\n      <td>4.850075</td>\n      <td>3.082306</td>\n      <td>4.281904</td>\n      <td>3.791205</td>\n      <td>6.480146</td>\n      <td>7.813408</td>\n      <td>1.380382</td>\n      <td>11.580054</td>\n      <td>2.201123</td>\n      <td>1.650476</td>\n      <td>11.933252</td>\n      <td>3.834445</td>\n      <td>5.021623</td>\n      <td>259</td>\n      <td>0</td>\n      <td>0</td>\n      <td>1</td>\n      <td>0</td>\n      <td>0</td>\n      <td>0</td>\n      <td>0</td>\n      <td>0</td>\n      <td>0</td>\n      <td>0</td>\n      <td>0</td>\n      <td>0</td>\n      <td>0</td>\n      <td>0</td>\n      <td>0</td>\n      <td>0</td>\n      <td>0</td>\n      <td>0</td>\n      <td>0</td>\n      <td>0</td>\n      <td>0</td>\n      <td>0</td>\n      <td>0</td>\n      <td>0</td>\n      <td>0</td>\n      <td>0</td>\n      <td>...</td>\n      <td>0</td>\n      <td>0</td>\n      <td>0</td>\n      <td>0</td>\n      <td>0</td>\n      <td>0</td>\n      <td>0</td>\n      <td>0</td>\n      <td>0</td>\n      <td>0</td>\n      <td>0</td>\n      <td>0</td>\n      <td>0</td>\n      <td>0</td>\n      <td>0</td>\n      <td>0</td>\n      <td>0</td>\n      <td>0</td>\n      <td>0</td>\n      <td>0</td>\n      <td>0</td>\n      <td>1</td>\n      <td>0</td>\n      <td>0</td>\n      <td>0</td>\n      <td>0</td>\n      <td>0</td>\n      <td>0</td>\n      <td>0</td>\n      <td>0</td>\n      <td>0</td>\n      <td>1</td>\n      <td>0</td>\n      <td>0</td>\n      <td>0</td>\n      <td>0</td>\n      <td>0</td>\n      <td>1</td>\n      <td>0</td>\n      <td>0</td>\n    </tr>\n    <tr>\n      <th>2184</th>\n      <td>2.910045</td>\n      <td>0.094506</td>\n      <td>1.709888</td>\n      <td>1.637009</td>\n      <td>0.059201</td>\n      <td>7.600842</td>\n      <td>0.000000</td>\n      <td>10.896544</td>\n      <td>1.410243</td>\n      <td>1.856786</td>\n      <td>12.835164</td>\n      <td>3.961873</td>\n      <td>4.611050</td>\n      <td>9</td>\n      <td>0</td>\n      <td>0</td>\n      <td>0</td>\n      <td>0</td>\n      <td>0</td>\n      <td>0</td>\n      <td>0</td>\n      <td>0</td>\n      <td>0</td>\n      <td>0</td>\n      <td>0</td>\n      <td>0</td>\n      <td>0</td>\n      <td>0</td>\n      <td>0</td>\n      <td>0</td>\n      <td>0</td>\n      <td>0</td>\n      <td>0</td>\n      <td>0</td>\n      <td>0</td>\n      <td>0</td>\n      <td>0</td>\n      <td>0</td>\n      <td>0</td>\n      <td>0</td>\n      <td>...</td>\n      <td>0</td>\n      <td>0</td>\n      <td>0</td>\n      <td>0</td>\n      <td>0</td>\n      <td>0</td>\n      <td>0</td>\n      <td>0</td>\n      <td>0</td>\n      <td>0</td>\n      <td>0</td>\n      <td>0</td>\n      <td>0</td>\n      <td>0</td>\n      <td>0</td>\n      <td>0</td>\n      <td>1</td>\n      <td>0</td>\n      <td>0</td>\n      <td>0</td>\n      <td>0</td>\n      <td>0</td>\n      <td>0</td>\n      <td>0</td>\n      <td>0</td>\n      <td>0</td>\n      <td>0</td>\n      <td>0</td>\n      <td>0</td>\n      <td>0</td>\n      <td>0</td>\n      <td>1</td>\n      <td>0</td>\n      <td>0</td>\n      <td>0</td>\n      <td>0</td>\n      <td>0</td>\n      <td>0</td>\n      <td>1</td>\n      <td>0</td>\n    </tr>\n    <tr>\n      <th>796</th>\n      <td>4.850075</td>\n      <td>0.217541</td>\n      <td>0.994800</td>\n      <td>1.103595</td>\n      <td>0.193577</td>\n      <td>7.016162</td>\n      <td>0.849466</td>\n      <td>11.865126</td>\n      <td>0.987170</td>\n      <td>0.866500</td>\n      <td>13.741175</td>\n      <td>3.697749</td>\n      <td>4.611050</td>\n      <td>15</td>\n      <td>0</td>\n      <td>0</td>\n      <td>0</td>\n      <td>0</td>\n      <td>0</td>\n      <td>0</td>\n      <td>0</td>\n      <td>0</td>\n      <td>0</td>\n      <td>0</td>\n      <td>0</td>\n      <td>0</td>\n      <td>0</td>\n      <td>0</td>\n      <td>0</td>\n      <td>0</td>\n      <td>0</td>\n      <td>0</td>\n      <td>0</td>\n      <td>0</td>\n      <td>0</td>\n      <td>0</td>\n      <td>0</td>\n      <td>1</td>\n      <td>0</td>\n      <td>0</td>\n      <td>...</td>\n      <td>0</td>\n      <td>0</td>\n      <td>0</td>\n      <td>0</td>\n      <td>0</td>\n      <td>0</td>\n      <td>0</td>\n      <td>0</td>\n      <td>0</td>\n      <td>0</td>\n      <td>0</td>\n      <td>0</td>\n      <td>0</td>\n      <td>0</td>\n      <td>0</td>\n      <td>0</td>\n      <td>0</td>\n      <td>0</td>\n      <td>0</td>\n      <td>0</td>\n      <td>0</td>\n      <td>0</td>\n      <td>1</td>\n      <td>0</td>\n      <td>0</td>\n      <td>0</td>\n      <td>0</td>\n      <td>0</td>\n      <td>0</td>\n      <td>0</td>\n      <td>0</td>\n      <td>1</td>\n      <td>0</td>\n      <td>0</td>\n      <td>0</td>\n      <td>0</td>\n      <td>0</td>\n      <td>0</td>\n      <td>1</td>\n      <td>0</td>\n    </tr>\n    <tr>\n      <th>25</th>\n      <td>3.880060</td>\n      <td>0.327738</td>\n      <td>1.566200</td>\n      <td>1.306937</td>\n      <td>0.509315</td>\n      <td>6.876952</td>\n      <td>0.000000</td>\n      <td>10.805739</td>\n      <td>1.645284</td>\n      <td>1.624688</td>\n      <td>11.450979</td>\n      <td>3.284185</td>\n      <td>3.952329</td>\n      <td>10</td>\n      <td>0</td>\n      <td>0</td>\n      <td>0</td>\n      <td>0</td>\n      <td>0</td>\n      <td>0</td>\n      <td>0</td>\n      <td>0</td>\n      <td>0</td>\n      <td>0</td>\n      <td>0</td>\n      <td>0</td>\n      <td>0</td>\n      <td>0</td>\n      <td>0</td>\n      <td>1</td>\n      <td>0</td>\n      <td>0</td>\n      <td>0</td>\n      <td>0</td>\n      <td>0</td>\n      <td>0</td>\n      <td>0</td>\n      <td>0</td>\n      <td>0</td>\n      <td>0</td>\n      <td>...</td>\n      <td>0</td>\n      <td>0</td>\n      <td>0</td>\n      <td>0</td>\n      <td>0</td>\n      <td>0</td>\n      <td>0</td>\n      <td>0</td>\n      <td>0</td>\n      <td>0</td>\n      <td>0</td>\n      <td>0</td>\n      <td>0</td>\n      <td>0</td>\n      <td>0</td>\n      <td>0</td>\n      <td>0</td>\n      <td>0</td>\n      <td>0</td>\n      <td>0</td>\n      <td>0</td>\n      <td>0</td>\n      <td>0</td>\n      <td>0</td>\n      <td>0</td>\n      <td>0</td>\n      <td>1</td>\n      <td>0</td>\n      <td>0</td>\n      <td>0</td>\n      <td>0</td>\n      <td>1</td>\n      <td>0</td>\n      <td>0</td>\n      <td>0</td>\n      <td>1</td>\n      <td>0</td>\n      <td>0</td>\n      <td>0</td>\n      <td>0</td>\n    </tr>\n    <tr>\n      <th>1745</th>\n      <td>4.850075</td>\n      <td>0.389791</td>\n      <td>2.506703</td>\n      <td>2.351882</td>\n      <td>0.265934</td>\n      <td>8.667627</td>\n      <td>1.162427</td>\n      <td>11.653248</td>\n      <td>3.117380</td>\n      <td>1.476989</td>\n      <td>11.744594</td>\n      <td>5.307773</td>\n      <td>4.204193</td>\n      <td>22</td>\n      <td>0</td>\n      <td>0</td>\n      <td>0</td>\n      <td>0</td>\n      <td>0</td>\n      <td>0</td>\n      <td>0</td>\n      <td>0</td>\n      <td>0</td>\n      <td>0</td>\n      <td>0</td>\n      <td>0</td>\n      <td>0</td>\n      <td>0</td>\n      <td>0</td>\n      <td>0</td>\n      <td>0</td>\n      <td>0</td>\n      <td>0</td>\n      <td>0</td>\n      <td>0</td>\n      <td>0</td>\n      <td>0</td>\n      <td>0</td>\n      <td>0</td>\n      <td>0</td>\n      <td>...</td>\n      <td>0</td>\n      <td>0</td>\n      <td>0</td>\n      <td>0</td>\n      <td>0</td>\n      <td>1</td>\n      <td>0</td>\n      <td>0</td>\n      <td>0</td>\n      <td>0</td>\n      <td>0</td>\n      <td>0</td>\n      <td>0</td>\n      <td>0</td>\n      <td>0</td>\n      <td>0</td>\n      <td>0</td>\n      <td>0</td>\n      <td>0</td>\n      <td>0</td>\n      <td>0</td>\n      <td>0</td>\n      <td>0</td>\n      <td>0</td>\n      <td>0</td>\n      <td>0</td>\n      <td>0</td>\n      <td>0</td>\n      <td>0</td>\n      <td>0</td>\n      <td>0</td>\n      <td>1</td>\n      <td>0</td>\n      <td>0</td>\n      <td>0</td>\n      <td>1</td>\n      <td>0</td>\n      <td>0</td>\n      <td>0</td>\n      <td>0</td>\n    </tr>\n  </tbody>\n</table>\n<p>5 rows × 128 columns</p>\n</div>"
     },
     "metadata": {},
     "execution_count": 3
    }
   ],
   "source": [
    "train.head()"
   ]
  },
  {
   "cell_type": "code",
   "execution_count": null,
   "metadata": {},
   "outputs": [],
   "source": []
  }
 ]
}