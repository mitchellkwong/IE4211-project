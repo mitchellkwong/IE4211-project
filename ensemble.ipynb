{
 "cells": [
  {
   "cell_type": "markdown",
   "metadata": {},
   "source": [
    "# Ensemble"
   ]
  },
  {
   "cell_type": "code",
   "execution_count": 12,
   "metadata": {},
   "outputs": [],
   "source": [
    "from pathlib import Path\n",
    "\n",
    "import matplotlib.pyplot as plt\n",
    "import numpy as np\n",
    "import pandas as pd\n",
    "\n",
    "from data import train, validation\n",
    "from data import X, y, categorical, numerical\n",
    "from utils import StandardizedGridSearchCV"
   ]
  },
  {
   "cell_type": "code",
   "execution_count": 13,
   "metadata": {},
   "outputs": [],
   "source": [
    "pred_train = pd.read_csv('predictions/train.csv', index_col=0)\n",
    "pred_validation = pd.read_csv('predictions/validation.csv', index_col=0)"
   ]
  },
  {
   "cell_type": "code",
   "execution_count": 14,
   "metadata": {},
   "outputs": [
    {
     "name": "stdout",
     "output_type": "stream",
     "text": [
      "Fitting 10 folds for each of 4 candidates, totalling 40 fits\n"
     ]
    },
    {
     "data": {
      "text/html": [
       "<div>\n",
       "<style scoped>\n",
       "    .dataframe tbody tr th:only-of-type {\n",
       "        vertical-align: middle;\n",
       "    }\n",
       "\n",
       "    .dataframe tbody tr th {\n",
       "        vertical-align: top;\n",
       "    }\n",
       "\n",
       "    .dataframe thead th {\n",
       "        text-align: right;\n",
       "    }\n",
       "</style>\n",
       "<table border=\"1\" class=\"dataframe\">\n",
       "  <thead>\n",
       "    <tr style=\"text-align: right;\">\n",
       "      <th></th>\n",
       "      <th></th>\n",
       "      <th>mean_train_neg_mean_squared_error</th>\n",
       "      <th>mean_test_neg_mean_squared_error</th>\n",
       "    </tr>\n",
       "    <tr>\n",
       "      <th>fit_intercept</th>\n",
       "      <th>positive</th>\n",
       "      <th></th>\n",
       "      <th></th>\n",
       "    </tr>\n",
       "  </thead>\n",
       "  <tbody>\n",
       "    <tr>\n",
       "      <th>True</th>\n",
       "      <th>False</th>\n",
       "      <td>-62.193629</td>\n",
       "      <td>-76.667645</td>\n",
       "    </tr>\n",
       "    <tr>\n",
       "      <th>False</th>\n",
       "      <th>False</th>\n",
       "      <td>-63.129715</td>\n",
       "      <td>-78.329613</td>\n",
       "    </tr>\n",
       "    <tr>\n",
       "      <th>True</th>\n",
       "      <th>True</th>\n",
       "      <td>-84.732709</td>\n",
       "      <td>-96.890167</td>\n",
       "    </tr>\n",
       "    <tr>\n",
       "      <th>False</th>\n",
       "      <th>True</th>\n",
       "      <td>-87.679640</td>\n",
       "      <td>-101.235888</td>\n",
       "    </tr>\n",
       "  </tbody>\n",
       "</table>\n",
       "</div>"
      ],
      "text/plain": [
       "                        mean_train_neg_mean_squared_error  \\\n",
       "fit_intercept positive                                      \n",
       "True          False                            -62.193629   \n",
       "False         False                            -63.129715   \n",
       "True          True                             -84.732709   \n",
       "False         True                             -87.679640   \n",
       "\n",
       "                        mean_test_neg_mean_squared_error  \n",
       "fit_intercept positive                                    \n",
       "True          False                           -76.667645  \n",
       "False         False                           -78.329613  \n",
       "True          True                            -96.890167  \n",
       "False         True                           -101.235888  "
      ]
     },
     "execution_count": 14,
     "metadata": {},
     "output_type": "execute_result"
    }
   ],
   "source": [
    "from sklearn.linear_model import LinearRegression\n",
    "\n",
    "meta = StandardizedGridSearchCV(\n",
    "    estimator = LinearRegression(),\n",
    "    param_grid = {\n",
    "        'fit_intercept': [True, False],\n",
    "        'positive': [True, False],\n",
    "    },\n",
    ")\n",
    "\n",
    "meta.fit(pred_train, train[y])\n",
    "meta.results[['mean_train_neg_mean_squared_error', 'mean_test_neg_mean_squared_error']]"
   ]
  },
  {
   "cell_type": "code",
   "execution_count": 15,
   "metadata": {},
   "outputs": [],
   "source": [
    "meta.save('ensemble.p')"
   ]
  },
  {
   "cell_type": "markdown",
   "metadata": {},
   "source": [
    "# Coefficient analysis"
   ]
  },
  {
   "cell_type": "code",
   "execution_count": 18,
   "metadata": {},
   "outputs": [
    {
     "data": {
      "text/html": [
       "<div>\n",
       "<style scoped>\n",
       "    .dataframe tbody tr th:only-of-type {\n",
       "        vertical-align: middle;\n",
       "    }\n",
       "\n",
       "    .dataframe tbody tr th {\n",
       "        vertical-align: top;\n",
       "    }\n",
       "\n",
       "    .dataframe thead th {\n",
       "        text-align: right;\n",
       "    }\n",
       "</style>\n",
       "<table border=\"1\" class=\"dataframe\">\n",
       "  <thead>\n",
       "    <tr style=\"text-align: right;\">\n",
       "      <th></th>\n",
       "      <th>coef</th>\n",
       "    </tr>\n",
       "  </thead>\n",
       "  <tbody>\n",
       "    <tr>\n",
       "      <th>SVR_Radial</th>\n",
       "      <td>0.236733</td>\n",
       "    </tr>\n",
       "    <tr>\n",
       "      <th>Boosting10</th>\n",
       "      <td>1.086892</td>\n",
       "    </tr>\n",
       "    <tr>\n",
       "      <th>RF5</th>\n",
       "      <td>-0.161529</td>\n",
       "    </tr>\n",
       "    <tr>\n",
       "      <th>regression</th>\n",
       "      <td>-0.134240</td>\n",
       "    </tr>\n",
       "  </tbody>\n",
       "</table>\n",
       "</div>"
      ],
      "text/plain": [
       "                coef\n",
       "SVR_Radial  0.236733\n",
       "Boosting10  1.086892\n",
       "RF5        -0.161529\n",
       "regression -0.134240"
      ]
     },
     "execution_count": 18,
     "metadata": {},
     "output_type": "execute_result"
    }
   ],
   "source": [
    "coef = dict(zip(\n",
    "    pred_train.columns,\n",
    "    meta.best_estimator_.coef_,\n",
    "))\n",
    "coef = pd.Series(coef, name='coef')\n",
    "coef.to_frame()"
   ]
  },
  {
   "cell_type": "markdown",
   "metadata": {},
   "source": [
    "# Model evaluation\n",
    "\n",
    "The ensemble model was evaluated against the best individual model on the validation set. The ensemble model shows a significant improvement in prediction variance with a small improvement in prediction bias. "
   ]
  },
  {
   "cell_type": "code",
   "execution_count": 26,
   "metadata": {},
   "outputs": [
    {
     "name": "stdout",
     "output_type": "stream",
     "text": [
      "Best indivdual model:\n",
      "- mse = 1265.690846715096\n",
      "- mae = 18.181575382899513\n",
      "- std = 125.55516520789725\n",
      "\n",
      "Ensemble model:\n",
      "- mse = 1607.2054233630424\n",
      "- mae = 16.685320301569497\n",
      "- std = 40.07376946940644\n"
     ]
    }
   ],
   "source": [
    "from sklearn.metrics import mean_absolute_error\n",
    "from sklearn.metrics import mean_squared_error\n",
    "\n",
    "y_true = validation[y]\n",
    "\n",
    "print('Best indivdual model:')\n",
    "y_pred = pred_validation.iloc[:, 0]\n",
    "print('- mse =', mean_squared_error(y_true=y_true, y_pred=y_pred))\n",
    "print('- mae =', mean_absolute_error(y_true=y_true, y_pred=y_pred))\n",
    "print('- std =', (y_true - y_pred).std())\n",
    "\n",
    "print()\n",
    "print('Ensemble model:')\n",
    "y_pred = meta.predict(pred_validation)\n",
    "print('- mse =', mean_squared_error(y_true=y_true, y_pred=y_pred))\n",
    "print('- mae =', mean_absolute_error(y_true=y_true, y_pred=y_pred))\n",
    "print('- std =', (y_true - y_pred).std())"
   ]
  }
 ],
 "metadata": {
  "kernelspec": {
   "display_name": "Python 3.8.8 64-bit ('base': conda)",
   "language": "python",
   "name": "python388jvsc74a57bd071677de9aba17018a39f7c0f2bbb29b4bc1c1991dcce88d5d6c4518b62318688"
  },
  "language_info": {
   "codemirror_mode": {
    "name": "ipython",
    "version": 3
   },
   "file_extension": ".py",
   "mimetype": "text/x-python",
   "name": "python",
   "nbconvert_exporter": "python",
   "pygments_lexer": "ipython3",
   "version": "3.8.8"
  },
  "metadata": {
   "interpreter": {
    "hash": "71677de9aba17018a39f7c0f2bbb29b4bc1c1991dcce88d5d6c4518b62318688"
   }
  }
 },
 "nbformat": 4,
 "nbformat_minor": 2
}
