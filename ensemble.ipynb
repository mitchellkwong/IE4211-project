{
 "metadata": {
  "language_info": {
   "codemirror_mode": {
    "name": "ipython",
    "version": 3
   },
   "file_extension": ".py",
   "mimetype": "text/x-python",
   "name": "python",
   "nbconvert_exporter": "python",
   "pygments_lexer": "ipython3",
   "version": "3.8.8"
  },
  "orig_nbformat": 2,
  "kernelspec": {
   "name": "python388jvsc74a57bd071677de9aba17018a39f7c0f2bbb29b4bc1c1991dcce88d5d6c4518b62318688",
   "display_name": "Python 3.8.8 64-bit ('base': conda)"
  },
  "metadata": {
   "interpreter": {
    "hash": "71677de9aba17018a39f7c0f2bbb29b4bc1c1991dcce88d5d6c4518b62318688"
   }
  }
 },
 "nbformat": 4,
 "nbformat_minor": 2,
 "cells": [
  {
   "source": [
    "# Ensemble"
   ],
   "cell_type": "markdown",
   "metadata": {}
  },
  {
   "cell_type": "code",
   "execution_count": 88,
   "metadata": {},
   "outputs": [],
   "source": [
    "from pathlib import Path\n",
    "\n",
    "import matplotlib.pyplot as plt\n",
    "import numpy as np\n",
    "import pandas as pd\n",
    "\n",
    "from data import train, validation\n",
    "from data import X, y, categorical, numerical"
   ]
  },
  {
   "cell_type": "code",
   "execution_count": 109,
   "metadata": {},
   "outputs": [],
   "source": [
    "pred_train = pd.read_csv('predictions/train.csv', index_col=0)\n",
    "pred_validation = pd.read_csv('predictions/validation.csv', index_col=0)"
   ]
  },
  {
   "cell_type": "code",
   "execution_count": 110,
   "metadata": {},
   "outputs": [
    {
     "output_type": "execute_result",
     "data": {
      "text/plain": [
       "            0           1           2           3           4           7  \\\n",
       "0  262.264045  208.946981  224.181583  281.291241  278.872627  269.716098   \n",
       "1    5.717018    2.380884   -4.723311    4.933619    5.268990    4.467527   \n",
       "2   18.588675   20.537849   23.338251   16.516517   15.281036   16.040660   \n",
       "3    8.092857   37.149286   28.099011   18.594146   22.367187   19.804791   \n",
       "4   25.287449   32.700862   28.449217   26.751070   25.666721   25.566143   \n",
       "\n",
       "           10          13          14  \n",
       "0  224.181583  208.887056  323.687086  \n",
       "1   -4.723311    1.475746    6.989618  \n",
       "2   23.338251   20.961534   15.731637  \n",
       "3   28.099011   37.406971   19.384777  \n",
       "4   28.449217   32.706583   24.926269  "
      ],
      "text/html": "<div>\n<style scoped>\n    .dataframe tbody tr th:only-of-type {\n        vertical-align: middle;\n    }\n\n    .dataframe tbody tr th {\n        vertical-align: top;\n    }\n\n    .dataframe thead th {\n        text-align: right;\n    }\n</style>\n<table border=\"1\" class=\"dataframe\">\n  <thead>\n    <tr style=\"text-align: right;\">\n      <th></th>\n      <th>0</th>\n      <th>1</th>\n      <th>2</th>\n      <th>3</th>\n      <th>4</th>\n      <th>7</th>\n      <th>10</th>\n      <th>13</th>\n      <th>14</th>\n    </tr>\n  </thead>\n  <tbody>\n    <tr>\n      <th>0</th>\n      <td>262.264045</td>\n      <td>208.946981</td>\n      <td>224.181583</td>\n      <td>281.291241</td>\n      <td>278.872627</td>\n      <td>269.716098</td>\n      <td>224.181583</td>\n      <td>208.887056</td>\n      <td>323.687086</td>\n    </tr>\n    <tr>\n      <th>1</th>\n      <td>5.717018</td>\n      <td>2.380884</td>\n      <td>-4.723311</td>\n      <td>4.933619</td>\n      <td>5.268990</td>\n      <td>4.467527</td>\n      <td>-4.723311</td>\n      <td>1.475746</td>\n      <td>6.989618</td>\n    </tr>\n    <tr>\n      <th>2</th>\n      <td>18.588675</td>\n      <td>20.537849</td>\n      <td>23.338251</td>\n      <td>16.516517</td>\n      <td>15.281036</td>\n      <td>16.040660</td>\n      <td>23.338251</td>\n      <td>20.961534</td>\n      <td>15.731637</td>\n    </tr>\n    <tr>\n      <th>3</th>\n      <td>8.092857</td>\n      <td>37.149286</td>\n      <td>28.099011</td>\n      <td>18.594146</td>\n      <td>22.367187</td>\n      <td>19.804791</td>\n      <td>28.099011</td>\n      <td>37.406971</td>\n      <td>19.384777</td>\n    </tr>\n    <tr>\n      <th>4</th>\n      <td>25.287449</td>\n      <td>32.700862</td>\n      <td>28.449217</td>\n      <td>26.751070</td>\n      <td>25.666721</td>\n      <td>25.566143</td>\n      <td>28.449217</td>\n      <td>32.706583</td>\n      <td>24.926269</td>\n    </tr>\n  </tbody>\n</table>\n</div>"
     },
     "metadata": {},
     "execution_count": 110
    }
   ],
   "source": [
    "pred_train.head()"
   ]
  },
  {
   "cell_type": "code",
   "execution_count": 111,
   "metadata": {},
   "outputs": [
    {
     "output_type": "stream",
     "name": "stdout",
     "text": [
      "Fitting 10 folds for each of 2 candidates, totalling 20 fits\n"
     ]
    },
    {
     "output_type": "execute_result",
     "data": {
      "text/plain": [
       "          mean_fit_time  std_fit_time  mean_score_time  std_score_time  \\\n",
       "positive                                                                 \n",
       "False          0.003578      0.000516         0.002704        0.000467   \n",
       "True           0.003665      0.000417         0.002932        0.000501   \n",
       "\n",
       "          split0_test_neg_mean_squared_error  \\\n",
       "positive                                       \n",
       "False                            -189.042278   \n",
       "True                             -252.803830   \n",
       "\n",
       "          split1_test_neg_mean_squared_error  \\\n",
       "positive                                       \n",
       "False                             -89.530175   \n",
       "True                             -200.613806   \n",
       "\n",
       "          split2_test_neg_mean_squared_error  \\\n",
       "positive                                       \n",
       "False                            -104.911070   \n",
       "True                             -282.187015   \n",
       "\n",
       "          split3_test_neg_mean_squared_error  \\\n",
       "positive                                       \n",
       "False                            -158.680030   \n",
       "True                             -319.687999   \n",
       "\n",
       "          split4_test_neg_mean_squared_error  \\\n",
       "positive                                       \n",
       "False                            -132.072354   \n",
       "True                             -503.463533   \n",
       "\n",
       "          split5_test_neg_mean_squared_error  ...  split2_train_r2  \\\n",
       "positive                                      ...                    \n",
       "False                            -102.764959  ...         0.989413   \n",
       "True                             -241.114420  ...         0.969618   \n",
       "\n",
       "          split3_train_r2  split4_train_r2  split5_train_r2  split6_train_r2  \\\n",
       "positive                                                                       \n",
       "False            0.989665         0.989536         0.989490         0.988420   \n",
       "True             0.969249         0.971256         0.969502         0.967372   \n",
       "\n",
       "          split7_train_r2  split8_train_r2  split9_train_r2  mean_train_r2  \\\n",
       "positive                                                                     \n",
       "False            0.988883         0.988125         0.988767       0.989126   \n",
       "True             0.968124         0.977824         0.967262       0.969676   \n",
       "\n",
       "          std_train_r2  \n",
       "positive                \n",
       "False         0.000548  \n",
       "True          0.002942  \n",
       "\n",
       "[2 rows x 54 columns]"
      ],
      "text/html": "<div>\n<style scoped>\n    .dataframe tbody tr th:only-of-type {\n        vertical-align: middle;\n    }\n\n    .dataframe tbody tr th {\n        vertical-align: top;\n    }\n\n    .dataframe thead th {\n        text-align: right;\n    }\n</style>\n<table border=\"1\" class=\"dataframe\">\n  <thead>\n    <tr style=\"text-align: right;\">\n      <th></th>\n      <th>mean_fit_time</th>\n      <th>std_fit_time</th>\n      <th>mean_score_time</th>\n      <th>std_score_time</th>\n      <th>split0_test_neg_mean_squared_error</th>\n      <th>split1_test_neg_mean_squared_error</th>\n      <th>split2_test_neg_mean_squared_error</th>\n      <th>split3_test_neg_mean_squared_error</th>\n      <th>split4_test_neg_mean_squared_error</th>\n      <th>split5_test_neg_mean_squared_error</th>\n      <th>...</th>\n      <th>split2_train_r2</th>\n      <th>split3_train_r2</th>\n      <th>split4_train_r2</th>\n      <th>split5_train_r2</th>\n      <th>split6_train_r2</th>\n      <th>split7_train_r2</th>\n      <th>split8_train_r2</th>\n      <th>split9_train_r2</th>\n      <th>mean_train_r2</th>\n      <th>std_train_r2</th>\n    </tr>\n    <tr>\n      <th>positive</th>\n      <th></th>\n      <th></th>\n      <th></th>\n      <th></th>\n      <th></th>\n      <th></th>\n      <th></th>\n      <th></th>\n      <th></th>\n      <th></th>\n      <th></th>\n      <th></th>\n      <th></th>\n      <th></th>\n      <th></th>\n      <th></th>\n      <th></th>\n      <th></th>\n      <th></th>\n      <th></th>\n      <th></th>\n    </tr>\n  </thead>\n  <tbody>\n    <tr>\n      <th>False</th>\n      <td>0.003578</td>\n      <td>0.000516</td>\n      <td>0.002704</td>\n      <td>0.000467</td>\n      <td>-189.042278</td>\n      <td>-89.530175</td>\n      <td>-104.911070</td>\n      <td>-158.680030</td>\n      <td>-132.072354</td>\n      <td>-102.764959</td>\n      <td>...</td>\n      <td>0.989413</td>\n      <td>0.989665</td>\n      <td>0.989536</td>\n      <td>0.989490</td>\n      <td>0.988420</td>\n      <td>0.988883</td>\n      <td>0.988125</td>\n      <td>0.988767</td>\n      <td>0.989126</td>\n      <td>0.000548</td>\n    </tr>\n    <tr>\n      <th>True</th>\n      <td>0.003665</td>\n      <td>0.000417</td>\n      <td>0.002932</td>\n      <td>0.000501</td>\n      <td>-252.803830</td>\n      <td>-200.613806</td>\n      <td>-282.187015</td>\n      <td>-319.687999</td>\n      <td>-503.463533</td>\n      <td>-241.114420</td>\n      <td>...</td>\n      <td>0.969618</td>\n      <td>0.969249</td>\n      <td>0.971256</td>\n      <td>0.969502</td>\n      <td>0.967372</td>\n      <td>0.968124</td>\n      <td>0.977824</td>\n      <td>0.967262</td>\n      <td>0.969676</td>\n      <td>0.002942</td>\n    </tr>\n  </tbody>\n</table>\n<p>2 rows × 54 columns</p>\n</div>"
     },
     "metadata": {},
     "execution_count": 111
    }
   ],
   "source": [
    "from sklearn.linear_model import LinearRegression\n",
    "\n",
    "meta = StandardizedGridSearchCV(\n",
    "    estimator = LinearRegression(),\n",
    "    param_grid = {\n",
    "        'positive': [True, False],\n",
    "    },\n",
    ")\n",
    "\n",
    "meta.fit(pred_train, train[y])\n",
    "meta.results"
   ]
  },
  {
   "cell_type": "code",
   "execution_count": 112,
   "metadata": {},
   "outputs": [
    {
     "output_type": "execute_result",
     "data": {
      "text/plain": [
       "          mean_train_neg_mean_squared_error  mean_test_neg_mean_squared_error\n",
       "positive                                                                     \n",
       "False                           -110.944770                       -159.529522\n",
       "True                            -311.226621                       -573.110912"
      ],
      "text/html": "<div>\n<style scoped>\n    .dataframe tbody tr th:only-of-type {\n        vertical-align: middle;\n    }\n\n    .dataframe tbody tr th {\n        vertical-align: top;\n    }\n\n    .dataframe thead th {\n        text-align: right;\n    }\n</style>\n<table border=\"1\" class=\"dataframe\">\n  <thead>\n    <tr style=\"text-align: right;\">\n      <th></th>\n      <th>mean_train_neg_mean_squared_error</th>\n      <th>mean_test_neg_mean_squared_error</th>\n    </tr>\n    <tr>\n      <th>positive</th>\n      <th></th>\n      <th></th>\n    </tr>\n  </thead>\n  <tbody>\n    <tr>\n      <th>False</th>\n      <td>-110.944770</td>\n      <td>-159.529522</td>\n    </tr>\n    <tr>\n      <th>True</th>\n      <td>-311.226621</td>\n      <td>-573.110912</td>\n    </tr>\n  </tbody>\n</table>\n</div>"
     },
     "metadata": {},
     "execution_count": 112
    }
   ],
   "source": [
    "meta.results[['mean_train_neg_mean_squared_error', 'mean_test_neg_mean_squared_error']]"
   ]
  },
  {
   "cell_type": "code",
   "execution_count": 117,
   "metadata": {},
   "outputs": [],
   "source": [
    "meta.save('ensemble.p')"
   ]
  },
  {
   "source": [
    "# Model evaluation\n",
    "\n",
    "The ensemble model was evaluated against the best individual model on the validation set. The ensemble model shows a significant improvement in prediction variance with a small improvement in prediction bias. "
   ],
   "cell_type": "markdown",
   "metadata": {}
  },
  {
   "cell_type": "code",
   "execution_count": 115,
   "metadata": {},
   "outputs": [
    {
     "output_type": "stream",
     "name": "stdout",
     "text": [
      "Best indivdual model:\n- mse = 1265.690846715096\n- mae = 18.181575382899513\n- std = 125.55516520789725\n\nEnsemble model:\n- mse = 1233.3377391708627\n- mae = 17.152032323838696\n- std = 35.136029959150626\n"
     ]
    }
   ],
   "source": [
    "from sklearn.metrics import mean_absolute_error\n",
    "from sklearn.metrics import mean_squared_error\n",
    "\n",
    "y_true = validation[y]\n",
    "\n",
    "print('Best indivdual model:')\n",
    "y_pred = pred_validation['0']\n",
    "print('- mse =', mean_squared_error(y_true=y_true, y_pred=y_pred))\n",
    "print('- mae =', mean_absolute_error(y_true=y_true, y_pred=y_pred))\n",
    "print('- std =', (y_true - y_pred).std())\n",
    "\n",
    "print()\n",
    "print('Ensemble model:')\n",
    "y_pred = meta.predict(pred_validation)\n",
    "print('- mse =', mean_squared_error(y_true=y_true, y_pred=y_pred))\n",
    "print('- mae =', mean_absolute_error(y_true=y_true, y_pred=y_pred))\n",
    "print('- std =', (y_true - y_pred).std())"
   ]
  }
 ]
}