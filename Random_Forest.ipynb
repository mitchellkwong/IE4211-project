{
 "metadata": {
  "language_info": {
   "codemirror_mode": {
    "name": "ipython",
    "version": 3
   },
   "file_extension": ".py",
   "mimetype": "text/x-python",
   "name": "python",
   "nbconvert_exporter": "python",
   "pygments_lexer": "ipython3",
   "version": "3.7.3-final"
  },
  "orig_nbformat": 2,
  "kernelspec": {
   "name": "python373jvsc74a57bd09a9d553a929dcdd3d1765802cd4a01d7bfb63b86fd958685c07e3eac48b3d0f3",
   "display_name": "Python 3.7.3 64-bit (conda)"
  }
 },
 "nbformat": 4,
 "nbformat_minor": 2,
 "cells": [
  {
   "source": [
    "## Sklearn Random Forest Regressor \n",
    "### We will peform GridSearch to find the optimal parameters to be used in the Random Forest Regressor model to predict sales. Tuning of the hyperparameters are based on the MSE value obtained"
   ],
   "cell_type": "markdown",
   "metadata": {}
  },
  {
   "cell_type": "code",
   "execution_count": 1,
   "metadata": {},
   "outputs": [],
   "source": [
    "#Importing relevant libraries\n",
    "from data import train\n",
    "from sklearn.svm import SVR\n",
    "import numpy as np\n",
    "from multiprocessing import cpu_count\n",
    "from utils import StandardizedGridSearchCV\n",
    "from sklearn.model_selection import GridSearchCV\n",
    "from sklearn.metrics import mean_squared_error as MSE\n",
    "from sklearn.model_selection import train_test_split"
   ]
  },
  {
   "cell_type": "code",
   "execution_count": 2,
   "metadata": {},
   "outputs": [],
   "source": [
    "#Separating predictors from sales column\n",
    "X=train.drop('sales', axis=1)\n",
    "y=train.sales"
   ]
  },
  {
   "source": [
    "### We will first fit the training data into the default Random Forest Regressor model to see the MSE value before conducting GridSearch to find the optimal hyperparameters"
   ],
   "cell_type": "markdown",
   "metadata": {}
  },
  {
   "cell_type": "code",
   "execution_count": 3,
   "metadata": {},
   "outputs": [],
   "source": [
    "# conducting a separate train test split to fit into default Gradient Boosting Regressor Model\n",
    "\n",
    "X_train,X_test,y_train,y_test = train_test_split(X,y, test_size=0.2,random_state =20)"
   ]
  },
  {
   "cell_type": "code",
   "execution_count": 4,
   "metadata": {},
   "outputs": [
    {
     "output_type": "execute_result",
     "data": {
      "text/plain": [
       "RandomForestRegressor()"
      ]
     },
     "metadata": {},
     "execution_count": 4
    }
   ],
   "source": [
    "from sklearn.ensemble import RandomForestRegressor\n",
    "RF_default = RandomForestRegressor()\n",
    "RF_default.fit(X_train,y_train)"
   ]
  },
  {
   "cell_type": "code",
   "execution_count": 5,
   "metadata": {},
   "outputs": [
    {
     "output_type": "execute_result",
     "data": {
      "text/plain": [
       "2497.918238345863"
      ]
     },
     "metadata": {},
     "execution_count": 5
    }
   ],
   "source": [
    "# MSE value for Random Forest Regressor default model\n",
    "RF_default_MSE=np.mean((y_test - RF_default.predict(X_test))**2)\n",
    "\n",
    "RF_default_MSE"
   ]
  },
  {
   "source": [
    "### We will now conduct GridSearchCV to see if a better model can be obtained"
   ],
   "cell_type": "markdown",
   "metadata": {}
  },
  {
   "cell_type": "code",
   "execution_count": 7,
   "metadata": {},
   "outputs": [
    {
     "output_type": "execute_result",
     "data": {
      "text/plain": [
       "GridSearchCV(cv=10, estimator=RandomForestRegressor(n_estimators=50), n_jobs=-1,\n",
       "             param_grid={'ccp_alpha': array([0.01, 0.02, 0.03, 0.04, 0.05, 0.06, 0.07, 0.08, 0.09, 0.1 , 0.11,\n",
       "       0.12, 0.13, 0.14, 0.15, 0.16, 0.17, 0.18, 0.19, 0.2 , 0.21, 0.22,\n",
       "       0.23, 0.24, 0.25, 0.26, 0.27, 0.28, 0.29, 0.3 , 0.31, 0.32, 0.33,\n",
       "       0.34, 0.35, 0.36, 0.37, 0.38, 0.39, 0.4 , 0.41, 0.42, 0.43, 0.44,\n",
       "       0.45, 0.46, 0.47, 0.48, 0.49,...\n",
       "       0.56, 0.57, 0.58, 0.59, 0.6 , 0.61, 0.62, 0.63, 0.64, 0.65, 0.66,\n",
       "       0.67, 0.68, 0.69, 0.7 , 0.71, 0.72, 0.73, 0.74, 0.75, 0.76, 0.77,\n",
       "       0.78, 0.79, 0.8 , 0.81, 0.82, 0.83, 0.84, 0.85, 0.86, 0.87, 0.88,\n",
       "       0.89, 0.9 , 0.91, 0.92, 0.93, 0.94, 0.95, 0.96, 0.97, 0.98, 0.99,\n",
       "       1.  ]),\n",
       "                         'criterion': ['mse'], 'max_depth': [10],\n",
       "                         'max_features': (None, 'auto')},\n",
       "             refit='neg_mean_squared_error', return_train_score=True,\n",
       "             scoring=['neg_mean_squared_error', 'r2'], verbose=10)"
      ]
     },
     "metadata": {},
     "execution_count": 7
    }
   ],
   "source": [
    "#Retriving saved Random Forest and Bagging Models\n",
    "# Random Forest and Bagging Regressor Run 1\n",
    "\n",
    "RF_run1=StandardizedGridSearchCV.load('models/RF3.p')\n",
    "RF_run1"
   ]
  },
  {
   "cell_type": "code",
   "execution_count": 8,
   "metadata": {},
   "outputs": [
    {
     "output_type": "execute_result",
     "data": {
      "text/plain": [
       "                                            mean_fit_time  std_fit_time  \\\n",
       "ccp_alpha criterion max_depth max_features                                \n",
       "0.40      mse       10        auto               2.899884      0.190939   \n",
       "0.26      mse       10        auto               2.864082      0.130700   \n",
       "0.37      mse       10        auto               2.508874      0.259479   \n",
       "0.09      mse       10        NaN                2.408103      0.255367   \n",
       "0.41      mse       10        auto               2.863000      0.166757   \n",
       "0.75      mse       10        NaN                2.790311      0.155244   \n",
       "0.16      mse       10        NaN                2.820084      0.149843   \n",
       "0.82      mse       10        auto               2.568868      0.142420   \n",
       "0.34      mse       10        auto               2.511113      0.195342   \n",
       "0.21      mse       10        NaN                2.914651      0.204543   \n",
       "\n",
       "                                            mean_score_time  std_score_time  \\\n",
       "ccp_alpha criterion max_depth max_features                                    \n",
       "0.40      mse       10        auto                 0.022561        0.002941   \n",
       "0.26      mse       10        auto                 0.028877        0.008176   \n",
       "0.37      mse       10        auto                 0.026801        0.012177   \n",
       "0.09      mse       10        NaN                  0.023288        0.007993   \n",
       "0.41      mse       10        auto                 0.022919        0.003531   \n",
       "0.75      mse       10        NaN                  0.027522        0.011107   \n",
       "0.16      mse       10        NaN                  0.024837        0.004359   \n",
       "0.82      mse       10        auto                 0.019984        0.007035   \n",
       "0.34      mse       10        auto                 0.030569        0.015252   \n",
       "0.21      mse       10        NaN                  0.022568        0.005315   \n",
       "\n",
       "                                            split0_test_neg_mean_squared_error  \\\n",
       "ccp_alpha criterion max_depth max_features                                       \n",
       "0.40      mse       10        auto                                 -755.626536   \n",
       "0.26      mse       10        auto                                 -677.526201   \n",
       "0.37      mse       10        auto                                 -780.857270   \n",
       "0.09      mse       10        NaN                                  -685.879815   \n",
       "0.41      mse       10        auto                                 -754.359279   \n",
       "0.75      mse       10        NaN                                  -691.196682   \n",
       "0.16      mse       10        NaN                                  -774.392890   \n",
       "0.82      mse       10        auto                                 -708.267609   \n",
       "0.34      mse       10        auto                                 -697.633161   \n",
       "0.21      mse       10        NaN                                  -729.137507   \n",
       "\n",
       "                                            split1_test_neg_mean_squared_error  \\\n",
       "ccp_alpha criterion max_depth max_features                                       \n",
       "0.40      mse       10        auto                                -1130.759937   \n",
       "0.26      mse       10        auto                                -1104.905571   \n",
       "0.37      mse       10        auto                                -1131.299373   \n",
       "0.09      mse       10        NaN                                 -1247.368889   \n",
       "0.41      mse       10        auto                                -1195.760152   \n",
       "0.75      mse       10        NaN                                 -1326.688986   \n",
       "0.16      mse       10        NaN                                 -1150.255681   \n",
       "0.82      mse       10        auto                                -1175.909523   \n",
       "0.34      mse       10        auto                                -1077.643726   \n",
       "0.21      mse       10        NaN                                 -1086.686377   \n",
       "\n",
       "                                            split2_test_neg_mean_squared_error  \\\n",
       "ccp_alpha criterion max_depth max_features                                       \n",
       "0.40      mse       10        auto                                -1694.508315   \n",
       "0.26      mse       10        auto                                -1531.601132   \n",
       "0.37      mse       10        auto                                -1545.118862   \n",
       "0.09      mse       10        NaN                                 -1602.747915   \n",
       "0.41      mse       10        auto                                -1644.272291   \n",
       "0.75      mse       10        NaN                                 -2246.760563   \n",
       "0.16      mse       10        NaN                                 -1123.755966   \n",
       "0.82      mse       10        auto                                -2141.931342   \n",
       "0.34      mse       10        auto                                -1693.960023   \n",
       "0.21      mse       10        NaN                                 -1887.835085   \n",
       "\n",
       "                                            split3_test_neg_mean_squared_error  \\\n",
       "ccp_alpha criterion max_depth max_features                                       \n",
       "0.40      mse       10        auto                                -1775.814405   \n",
       "0.26      mse       10        auto                                -1823.970063   \n",
       "0.37      mse       10        auto                                -1647.605753   \n",
       "0.09      mse       10        NaN                                 -1816.489336   \n",
       "0.41      mse       10        auto                                -1679.493063   \n",
       "0.75      mse       10        NaN                                 -1614.182492   \n",
       "0.16      mse       10        NaN                                 -1666.610928   \n",
       "0.82      mse       10        auto                                -1694.730043   \n",
       "0.34      mse       10        auto                                -1688.088708   \n",
       "0.21      mse       10        NaN                                 -1542.379802   \n",
       "\n",
       "                                            split4_test_neg_mean_squared_error  \\\n",
       "ccp_alpha criterion max_depth max_features                                       \n",
       "0.40      mse       10        auto                                -2172.628731   \n",
       "0.26      mse       10        auto                                -1864.418735   \n",
       "0.37      mse       10        auto                                -2340.118346   \n",
       "0.09      mse       10        NaN                                 -2402.069959   \n",
       "0.41      mse       10        auto                                -2186.962712   \n",
       "0.75      mse       10        NaN                                 -2031.203491   \n",
       "0.16      mse       10        NaN                                 -2227.564881   \n",
       "0.82      mse       10        auto                                -2768.783052   \n",
       "0.34      mse       10        auto                                -2824.018827   \n",
       "0.21      mse       10        NaN                                 -2225.723423   \n",
       "\n",
       "                                            split5_test_neg_mean_squared_error  \\\n",
       "ccp_alpha criterion max_depth max_features                                       \n",
       "0.40      mse       10        auto                                -1216.508806   \n",
       "0.26      mse       10        auto                                -1135.122540   \n",
       "0.37      mse       10        auto                                -1267.582515   \n",
       "0.09      mse       10        NaN                                 -1168.383123   \n",
       "0.41      mse       10        auto                                -1240.085854   \n",
       "0.75      mse       10        NaN                                 -1213.981100   \n",
       "0.16      mse       10        NaN                                 -1144.760464   \n",
       "0.82      mse       10        auto                                -1212.592417   \n",
       "0.34      mse       10        auto                                -1200.085094   \n",
       "0.21      mse       10        NaN                                 -1465.426693   \n",
       "\n",
       "                                            ...  split2_train_r2  \\\n",
       "ccp_alpha criterion max_depth max_features  ...                    \n",
       "0.40      mse       10        auto          ...         0.960095   \n",
       "0.26      mse       10        auto          ...         0.959303   \n",
       "0.37      mse       10        auto          ...         0.950897   \n",
       "0.09      mse       10        NaN           ...         0.962631   \n",
       "0.41      mse       10        auto          ...         0.961984   \n",
       "0.75      mse       10        NaN           ...         0.961767   \n",
       "0.16      mse       10        NaN           ...         0.960626   \n",
       "0.82      mse       10        auto          ...         0.958538   \n",
       "0.34      mse       10        auto          ...         0.958557   \n",
       "0.21      mse       10        NaN           ...         0.961113   \n",
       "\n",
       "                                            split3_train_r2  split4_train_r2  \\\n",
       "ccp_alpha criterion max_depth max_features                                     \n",
       "0.40      mse       10        auto                 0.966893         0.957276   \n",
       "0.26      mse       10        auto                 0.957509         0.965415   \n",
       "0.37      mse       10        auto                 0.960197         0.963135   \n",
       "0.09      mse       10        NaN                  0.962500         0.959854   \n",
       "0.41      mse       10        auto                 0.954638         0.958405   \n",
       "0.75      mse       10        NaN                  0.958783         0.964610   \n",
       "0.16      mse       10        NaN                  0.960278         0.960421   \n",
       "0.82      mse       10        auto                 0.965960         0.961876   \n",
       "0.34      mse       10        auto                 0.961148         0.962986   \n",
       "0.21      mse       10        NaN                  0.962390         0.961133   \n",
       "\n",
       "                                            split5_train_r2  split6_train_r2  \\\n",
       "ccp_alpha criterion max_depth max_features                                     \n",
       "0.40      mse       10        auto                 0.962863         0.953173   \n",
       "0.26      mse       10        auto                 0.963031         0.954947   \n",
       "0.37      mse       10        auto                 0.956457         0.952452   \n",
       "0.09      mse       10        NaN                  0.953452         0.954563   \n",
       "0.41      mse       10        auto                 0.958572         0.961221   \n",
       "0.75      mse       10        NaN                  0.957600         0.952811   \n",
       "0.16      mse       10        NaN                  0.961381         0.954694   \n",
       "0.82      mse       10        auto                 0.963840         0.959715   \n",
       "0.34      mse       10        auto                 0.960990         0.954738   \n",
       "0.21      mse       10        NaN                  0.963046         0.954713   \n",
       "\n",
       "                                            split7_train_r2  split8_train_r2  \\\n",
       "ccp_alpha criterion max_depth max_features                                     \n",
       "0.40      mse       10        auto                 0.961897         0.966917   \n",
       "0.26      mse       10        auto                 0.955528         0.965571   \n",
       "0.37      mse       10        auto                 0.961652         0.962080   \n",
       "0.09      mse       10        NaN                  0.956357         0.964922   \n",
       "0.41      mse       10        auto                 0.961501         0.969827   \n",
       "0.75      mse       10        NaN                  0.960372         0.964812   \n",
       "0.16      mse       10        NaN                  0.964590         0.967074   \n",
       "0.82      mse       10        auto                 0.958723         0.963014   \n",
       "0.34      mse       10        auto                 0.964273         0.967007   \n",
       "0.21      mse       10        NaN                  0.953662         0.962572   \n",
       "\n",
       "                                            split9_train_r2  mean_train_r2  \\\n",
       "ccp_alpha criterion max_depth max_features                                   \n",
       "0.40      mse       10        auto                 0.957073       0.960333   \n",
       "0.26      mse       10        auto                 0.950377       0.958980   \n",
       "0.37      mse       10        auto                 0.952311       0.957269   \n",
       "0.09      mse       10        NaN                  0.961207       0.959815   \n",
       "0.41      mse       10        auto                 0.949502       0.959334   \n",
       "0.75      mse       10        NaN                  0.955528       0.959116   \n",
       "0.16      mse       10        NaN                  0.962144       0.961276   \n",
       "0.82      mse       10        auto                 0.958853       0.960296   \n",
       "0.34      mse       10        auto                 0.952169       0.959687   \n",
       "0.21      mse       10        NaN                  0.950453       0.957355   \n",
       "\n",
       "                                            std_train_r2  \n",
       "ccp_alpha criterion max_depth max_features                \n",
       "0.40      mse       10        auto              0.004164  \n",
       "0.26      mse       10        auto              0.004574  \n",
       "0.37      mse       10        auto              0.004271  \n",
       "0.09      mse       10        NaN               0.004122  \n",
       "0.41      mse       10        auto              0.005739  \n",
       "0.75      mse       10        NaN               0.003725  \n",
       "0.16      mse       10        NaN               0.003027  \n",
       "0.82      mse       10        auto              0.003123  \n",
       "0.34      mse       10        auto              0.004791  \n",
       "0.21      mse       10        NaN               0.004958  \n",
       "\n",
       "[10 rows x 54 columns]"
      ],
      "text/html": "<div>\n<style scoped>\n    .dataframe tbody tr th:only-of-type {\n        vertical-align: middle;\n    }\n\n    .dataframe tbody tr th {\n        vertical-align: top;\n    }\n\n    .dataframe thead th {\n        text-align: right;\n    }\n</style>\n<table border=\"1\" class=\"dataframe\">\n  <thead>\n    <tr style=\"text-align: right;\">\n      <th></th>\n      <th></th>\n      <th></th>\n      <th></th>\n      <th>mean_fit_time</th>\n      <th>std_fit_time</th>\n      <th>mean_score_time</th>\n      <th>std_score_time</th>\n      <th>split0_test_neg_mean_squared_error</th>\n      <th>split1_test_neg_mean_squared_error</th>\n      <th>split2_test_neg_mean_squared_error</th>\n      <th>split3_test_neg_mean_squared_error</th>\n      <th>split4_test_neg_mean_squared_error</th>\n      <th>split5_test_neg_mean_squared_error</th>\n      <th>...</th>\n      <th>split2_train_r2</th>\n      <th>split3_train_r2</th>\n      <th>split4_train_r2</th>\n      <th>split5_train_r2</th>\n      <th>split6_train_r2</th>\n      <th>split7_train_r2</th>\n      <th>split8_train_r2</th>\n      <th>split9_train_r2</th>\n      <th>mean_train_r2</th>\n      <th>std_train_r2</th>\n    </tr>\n    <tr>\n      <th>ccp_alpha</th>\n      <th>criterion</th>\n      <th>max_depth</th>\n      <th>max_features</th>\n      <th></th>\n      <th></th>\n      <th></th>\n      <th></th>\n      <th></th>\n      <th></th>\n      <th></th>\n      <th></th>\n      <th></th>\n      <th></th>\n      <th></th>\n      <th></th>\n      <th></th>\n      <th></th>\n      <th></th>\n      <th></th>\n      <th></th>\n      <th></th>\n      <th></th>\n      <th></th>\n      <th></th>\n    </tr>\n  </thead>\n  <tbody>\n    <tr>\n      <th>0.40</th>\n      <th>mse</th>\n      <th>10</th>\n      <th>auto</th>\n      <td>2.899884</td>\n      <td>0.190939</td>\n      <td>0.022561</td>\n      <td>0.002941</td>\n      <td>-755.626536</td>\n      <td>-1130.759937</td>\n      <td>-1694.508315</td>\n      <td>-1775.814405</td>\n      <td>-2172.628731</td>\n      <td>-1216.508806</td>\n      <td>...</td>\n      <td>0.960095</td>\n      <td>0.966893</td>\n      <td>0.957276</td>\n      <td>0.962863</td>\n      <td>0.953173</td>\n      <td>0.961897</td>\n      <td>0.966917</td>\n      <td>0.957073</td>\n      <td>0.960333</td>\n      <td>0.004164</td>\n    </tr>\n    <tr>\n      <th>0.26</th>\n      <th>mse</th>\n      <th>10</th>\n      <th>auto</th>\n      <td>2.864082</td>\n      <td>0.130700</td>\n      <td>0.028877</td>\n      <td>0.008176</td>\n      <td>-677.526201</td>\n      <td>-1104.905571</td>\n      <td>-1531.601132</td>\n      <td>-1823.970063</td>\n      <td>-1864.418735</td>\n      <td>-1135.122540</td>\n      <td>...</td>\n      <td>0.959303</td>\n      <td>0.957509</td>\n      <td>0.965415</td>\n      <td>0.963031</td>\n      <td>0.954947</td>\n      <td>0.955528</td>\n      <td>0.965571</td>\n      <td>0.950377</td>\n      <td>0.958980</td>\n      <td>0.004574</td>\n    </tr>\n    <tr>\n      <th>0.37</th>\n      <th>mse</th>\n      <th>10</th>\n      <th>auto</th>\n      <td>2.508874</td>\n      <td>0.259479</td>\n      <td>0.026801</td>\n      <td>0.012177</td>\n      <td>-780.857270</td>\n      <td>-1131.299373</td>\n      <td>-1545.118862</td>\n      <td>-1647.605753</td>\n      <td>-2340.118346</td>\n      <td>-1267.582515</td>\n      <td>...</td>\n      <td>0.950897</td>\n      <td>0.960197</td>\n      <td>0.963135</td>\n      <td>0.956457</td>\n      <td>0.952452</td>\n      <td>0.961652</td>\n      <td>0.962080</td>\n      <td>0.952311</td>\n      <td>0.957269</td>\n      <td>0.004271</td>\n    </tr>\n    <tr>\n      <th>0.09</th>\n      <th>mse</th>\n      <th>10</th>\n      <th>NaN</th>\n      <td>2.408103</td>\n      <td>0.255367</td>\n      <td>0.023288</td>\n      <td>0.007993</td>\n      <td>-685.879815</td>\n      <td>-1247.368889</td>\n      <td>-1602.747915</td>\n      <td>-1816.489336</td>\n      <td>-2402.069959</td>\n      <td>-1168.383123</td>\n      <td>...</td>\n      <td>0.962631</td>\n      <td>0.962500</td>\n      <td>0.959854</td>\n      <td>0.953452</td>\n      <td>0.954563</td>\n      <td>0.956357</td>\n      <td>0.964922</td>\n      <td>0.961207</td>\n      <td>0.959815</td>\n      <td>0.004122</td>\n    </tr>\n    <tr>\n      <th>0.41</th>\n      <th>mse</th>\n      <th>10</th>\n      <th>auto</th>\n      <td>2.863000</td>\n      <td>0.166757</td>\n      <td>0.022919</td>\n      <td>0.003531</td>\n      <td>-754.359279</td>\n      <td>-1195.760152</td>\n      <td>-1644.272291</td>\n      <td>-1679.493063</td>\n      <td>-2186.962712</td>\n      <td>-1240.085854</td>\n      <td>...</td>\n      <td>0.961984</td>\n      <td>0.954638</td>\n      <td>0.958405</td>\n      <td>0.958572</td>\n      <td>0.961221</td>\n      <td>0.961501</td>\n      <td>0.969827</td>\n      <td>0.949502</td>\n      <td>0.959334</td>\n      <td>0.005739</td>\n    </tr>\n    <tr>\n      <th>0.75</th>\n      <th>mse</th>\n      <th>10</th>\n      <th>NaN</th>\n      <td>2.790311</td>\n      <td>0.155244</td>\n      <td>0.027522</td>\n      <td>0.011107</td>\n      <td>-691.196682</td>\n      <td>-1326.688986</td>\n      <td>-2246.760563</td>\n      <td>-1614.182492</td>\n      <td>-2031.203491</td>\n      <td>-1213.981100</td>\n      <td>...</td>\n      <td>0.961767</td>\n      <td>0.958783</td>\n      <td>0.964610</td>\n      <td>0.957600</td>\n      <td>0.952811</td>\n      <td>0.960372</td>\n      <td>0.964812</td>\n      <td>0.955528</td>\n      <td>0.959116</td>\n      <td>0.003725</td>\n    </tr>\n    <tr>\n      <th>0.16</th>\n      <th>mse</th>\n      <th>10</th>\n      <th>NaN</th>\n      <td>2.820084</td>\n      <td>0.149843</td>\n      <td>0.024837</td>\n      <td>0.004359</td>\n      <td>-774.392890</td>\n      <td>-1150.255681</td>\n      <td>-1123.755966</td>\n      <td>-1666.610928</td>\n      <td>-2227.564881</td>\n      <td>-1144.760464</td>\n      <td>...</td>\n      <td>0.960626</td>\n      <td>0.960278</td>\n      <td>0.960421</td>\n      <td>0.961381</td>\n      <td>0.954694</td>\n      <td>0.964590</td>\n      <td>0.967074</td>\n      <td>0.962144</td>\n      <td>0.961276</td>\n      <td>0.003027</td>\n    </tr>\n    <tr>\n      <th>0.82</th>\n      <th>mse</th>\n      <th>10</th>\n      <th>auto</th>\n      <td>2.568868</td>\n      <td>0.142420</td>\n      <td>0.019984</td>\n      <td>0.007035</td>\n      <td>-708.267609</td>\n      <td>-1175.909523</td>\n      <td>-2141.931342</td>\n      <td>-1694.730043</td>\n      <td>-2768.783052</td>\n      <td>-1212.592417</td>\n      <td>...</td>\n      <td>0.958538</td>\n      <td>0.965960</td>\n      <td>0.961876</td>\n      <td>0.963840</td>\n      <td>0.959715</td>\n      <td>0.958723</td>\n      <td>0.963014</td>\n      <td>0.958853</td>\n      <td>0.960296</td>\n      <td>0.003123</td>\n    </tr>\n    <tr>\n      <th>0.34</th>\n      <th>mse</th>\n      <th>10</th>\n      <th>auto</th>\n      <td>2.511113</td>\n      <td>0.195342</td>\n      <td>0.030569</td>\n      <td>0.015252</td>\n      <td>-697.633161</td>\n      <td>-1077.643726</td>\n      <td>-1693.960023</td>\n      <td>-1688.088708</td>\n      <td>-2824.018827</td>\n      <td>-1200.085094</td>\n      <td>...</td>\n      <td>0.958557</td>\n      <td>0.961148</td>\n      <td>0.962986</td>\n      <td>0.960990</td>\n      <td>0.954738</td>\n      <td>0.964273</td>\n      <td>0.967007</td>\n      <td>0.952169</td>\n      <td>0.959687</td>\n      <td>0.004791</td>\n    </tr>\n    <tr>\n      <th>0.21</th>\n      <th>mse</th>\n      <th>10</th>\n      <th>NaN</th>\n      <td>2.914651</td>\n      <td>0.204543</td>\n      <td>0.022568</td>\n      <td>0.005315</td>\n      <td>-729.137507</td>\n      <td>-1086.686377</td>\n      <td>-1887.835085</td>\n      <td>-1542.379802</td>\n      <td>-2225.723423</td>\n      <td>-1465.426693</td>\n      <td>...</td>\n      <td>0.961113</td>\n      <td>0.962390</td>\n      <td>0.961133</td>\n      <td>0.963046</td>\n      <td>0.954713</td>\n      <td>0.953662</td>\n      <td>0.962572</td>\n      <td>0.950453</td>\n      <td>0.957355</td>\n      <td>0.004958</td>\n    </tr>\n  </tbody>\n</table>\n<p>10 rows × 54 columns</p>\n</div>"
     },
     "metadata": {},
     "execution_count": 8
    }
   ],
   "source": [
    "# Top 10 model results for Random Forest and Bagging Regressor Run 1\n",
    "\n",
    "RF_run1.results.head(10)"
   ]
  },
  {
   "cell_type": "code",
   "execution_count": 9,
   "metadata": {},
   "outputs": [
    {
     "output_type": "execute_result",
     "data": {
      "text/plain": [
       "ccp_alpha  criterion  max_depth  max_features\n",
       "0.40       mse        10         auto           -2367.260821\n",
       "0.26       mse        10         auto           -2369.330841\n",
       "0.37       mse        10         auto           -2394.247759\n",
       "0.09       mse        10         NaN            -2411.766285\n",
       "0.41       mse        10         auto           -2411.942395\n",
       "0.75       mse        10         NaN            -2416.251007\n",
       "0.16       mse        10         NaN            -2422.690418\n",
       "0.82       mse        10         auto           -2435.520573\n",
       "0.34       mse        10         auto           -2437.530603\n",
       "0.21       mse        10         NaN            -2440.069211\n",
       "Name: mean_test_neg_mean_squared_error, dtype: float64"
      ]
     },
     "metadata": {},
     "execution_count": 9
    }
   ],
   "source": [
    "#Printing top 10 models for Random Forest and Bagging Regressor Run 1 based on test MSE value\n",
    "\n",
    "RF_run1.results['mean_test_neg_mean_squared_error'].head(10)"
   ]
  },
  {
   "cell_type": "code",
   "execution_count": 10,
   "metadata": {},
   "outputs": [
    {
     "output_type": "execute_result",
     "data": {
      "text/plain": [
       "           mean_train_neg_mean_squared_error  mean_test_neg_mean_squared_error\n",
       "ccp_alpha                                                                     \n",
       "0.01                              415.459104                       2457.605728\n",
       "0.02                              403.068408                       2531.019440\n",
       "0.03                              405.120889                       2595.617216\n",
       "0.04                              396.390804                       2540.406584\n",
       "0.05                              385.953300                       2533.883679\n",
       "...                                      ...                               ...\n",
       "0.96                              424.202244                       2530.222280\n",
       "0.97                              422.735572                       2700.666507\n",
       "0.98                              440.051091                       2652.354658\n",
       "0.99                              425.853027                       2604.285165\n",
       "1.00                              428.997257                       2578.758187\n",
       "\n",
       "[100 rows x 2 columns]"
      ],
      "text/html": "<div>\n<style scoped>\n    .dataframe tbody tr th:only-of-type {\n        vertical-align: middle;\n    }\n\n    .dataframe tbody tr th {\n        vertical-align: top;\n    }\n\n    .dataframe thead th {\n        text-align: right;\n    }\n</style>\n<table border=\"1\" class=\"dataframe\">\n  <thead>\n    <tr style=\"text-align: right;\">\n      <th></th>\n      <th>mean_train_neg_mean_squared_error</th>\n      <th>mean_test_neg_mean_squared_error</th>\n    </tr>\n    <tr>\n      <th>ccp_alpha</th>\n      <th></th>\n      <th></th>\n    </tr>\n  </thead>\n  <tbody>\n    <tr>\n      <th>0.01</th>\n      <td>415.459104</td>\n      <td>2457.605728</td>\n    </tr>\n    <tr>\n      <th>0.02</th>\n      <td>403.068408</td>\n      <td>2531.019440</td>\n    </tr>\n    <tr>\n      <th>0.03</th>\n      <td>405.120889</td>\n      <td>2595.617216</td>\n    </tr>\n    <tr>\n      <th>0.04</th>\n      <td>396.390804</td>\n      <td>2540.406584</td>\n    </tr>\n    <tr>\n      <th>0.05</th>\n      <td>385.953300</td>\n      <td>2533.883679</td>\n    </tr>\n    <tr>\n      <th>...</th>\n      <td>...</td>\n      <td>...</td>\n    </tr>\n    <tr>\n      <th>0.96</th>\n      <td>424.202244</td>\n      <td>2530.222280</td>\n    </tr>\n    <tr>\n      <th>0.97</th>\n      <td>422.735572</td>\n      <td>2700.666507</td>\n    </tr>\n    <tr>\n      <th>0.98</th>\n      <td>440.051091</td>\n      <td>2652.354658</td>\n    </tr>\n    <tr>\n      <th>0.99</th>\n      <td>425.853027</td>\n      <td>2604.285165</td>\n    </tr>\n    <tr>\n      <th>1.00</th>\n      <td>428.997257</td>\n      <td>2578.758187</td>\n    </tr>\n  </tbody>\n</table>\n<p>100 rows × 2 columns</p>\n</div>"
     },
     "metadata": {},
     "execution_count": 10
    }
   ],
   "source": [
    "#We aggreagted the train and test MSE scores of run1 to see if ccp_alpha had a significant effect on the MSE values\n",
    "\n",
    "(-RF_run1.results[['mean_train_neg_mean_squared_error', 'mean_test_neg_mean_squared_error']]).groupby('ccp_alpha').mean()"
   ]
  },
  {
   "source": [
    "### From above, we decided to narrow the range of ccp_alpha to see if there is a effect on MSE"
   ],
   "cell_type": "markdown",
   "metadata": {}
  },
  {
   "cell_type": "code",
   "execution_count": 11,
   "metadata": {},
   "outputs": [
    {
     "output_type": "execute_result",
     "data": {
      "text/plain": [
       "GridSearchCV(cv=10, estimator=RandomForestRegressor(n_estimators=50), n_jobs=-1,\n",
       "             param_grid={'ccp_alpha': (0.1, 1, 10), 'criterion': ('mse', 'mae'),\n",
       "                         'max_depth': (9, 10, 12),\n",
       "                         'max_features': (None, 'auto'),\n",
       "                         'max_leaf_nodes': array([ 199,  629, 1992])},\n",
       "             refit='neg_mean_squared_error', return_train_score=True,\n",
       "             scoring=['neg_mean_squared_error', 'r2'], verbose=10)"
      ]
     },
     "metadata": {},
     "execution_count": 11
    }
   ],
   "source": [
    "#Retriving saved Random Forest and Bagging Models\n",
    "# Random Forest and Bagging Regressor Run 2\n",
    "\n",
    "RF_run2=StandardizedGridSearchCV.load('models/RFe50.p')\n",
    "RF_run2"
   ]
  },
  {
   "cell_type": "code",
   "execution_count": 12,
   "metadata": {},
   "outputs": [
    {
     "output_type": "execute_result",
     "data": {
      "text/plain": [
       " 10        NaN          629                  2.269565   \n",
       "                                           199                  2.210904   \n",
       "\n",
       "                                                           std_fit_time  \\\n",
       "ccp_alpha criterion max_depth max_features max_leaf_nodes                 \n",
       "1.0       mse       10        auto         199                 0.171242   \n",
       "                              NaN          629                 0.091926   \n",
       "                    9         auto         1992                0.091620   \n",
       "                                           199                 0.082004   \n",
       "                    12        NaN          199                 0.195587   \n",
       "0.1       mae       10        auto         629                 0.750402   \n",
       "          mse       9         auto         1992                0.137142   \n",
       "1.0       mse       10        auto         629                 0.183072   \n",
       "0.1       mse       10        NaN          629                 0.076147   \n",
       "                                           199                 0.107924   \n",
       "\n",
       "                                                           mean_score_time  \\\n",
       "ccp_alpha criterion max_depth max_features max_leaf_nodes                    \n",
       "1.0       mse       10        auto         199                    0.015584   \n",
       "                              NaN          629                    0.015485   \n",
       "                    9         auto         1992                   0.017891   \n",
       "                                           199                    0.016939   \n",
       "                    12        NaN          199                    0.015372   \n",
       "0.1       mae       10        auto         629                    0.013823   \n",
       "          mse       9         auto         1992                   0.015513   \n",
       "1.0       mse       10        auto         629                    0.014795   \n",
       "0.1       mse       10        NaN          629                    0.019023   \n",
       "                                           199                    0.015755   \n",
       "\n",
       "                                                           std_score_time  \\\n",
       "ccp_alpha criterion max_depth max_features max_leaf_nodes                   \n",
       "1.0       mse       10        auto         199                   0.001685   \n",
       "                              NaN          629                   0.001876   \n",
       "                    9         auto         1992                  0.009554   \n",
       "                                           199                   0.002284   \n",
       "                    12        NaN          199                   0.002282   \n",
       "0.1       mae       10        auto         629                   0.001988   \n",
       "          mse       9         auto         1992                  0.004097   \n",
       "1.0       mse       10        auto         629                   0.001563   \n",
       "0.1       mse       10        NaN          629                   0.005073   \n",
       "                                           199                   0.002150   \n",
       "\n",
       "                                                           split0_test_neg_mean_squared_error  \\\n",
       "ccp_alpha criterion max_depth max_features max_leaf_nodes                                       \n",
       "1.0       mse       10        auto         199                                    -683.491642   \n",
       "                              NaN          629                                    -706.258133   \n",
       "                    9         auto         1992                                   -736.225889   \n",
       "                                           199                                    -723.570004   \n",
       "                    12        NaN          199                                    -698.066201   \n",
       "0.1       mae       10        auto         629                                   -1216.399332   \n",
       "          mse       9         auto         1992                                   -788.833810   \n",
       "1.0       mse       10        auto         629                                    -692.011369   \n",
       "0.1       mse       10        NaN          629                                    -699.843315   \n",
       "                                           199                                    -870.393487   \n",
       "\n",
       "                                                           split1_test_neg_mean_squared_error  \\\n",
       "ccp_alpha criterion max_depth max_features max_leaf_nodes                                       \n",
       "1.0       mse       10        auto         199                                   -1195.051484   \n",
       "                              NaN          629                                   -1208.535551   \n",
       "                    9         auto         1992                                  -1258.048837   \n",
       "                                           199                                   -1060.177203   \n",
       "                    12        NaN          199                                   -1210.917347   \n",
       "0.1       mae       10        auto         629                                   -1422.906419   \n",
       "          mse       9         auto         1992                                  -1239.292029   \n",
       "1.0       mse       10        auto         629                                   -1156.798389   \n",
       "0.1       mse       10        NaN          629                                   -1093.099895   \n",
       "                                           199                                   -1329.443813   \n",
       "\n",
       "                                                           split2_test_neg_mean_squared_error  \\\n",
       "ccp_alpha criterion max_depth max_features max_leaf_nodes                                       \n",
       "1.0       mse       10        auto         199                                   -1285.306545   \n",
       "                              NaN          629                                   -1957.424978   \n",
       "                    9         auto         1992                                  -1676.078044   \n",
       "                                           199                                   -1930.354322   \n",
       "                    12        NaN          199                                   -1681.507720   \n",
       "0.1       mae       10        auto         629                                   -1861.375640   \n",
       "          mse       9         auto         1992                                  -1761.065170   \n",
       "1.0       mse       10        auto         629                                   -2006.554859   \n",
       "0.1       mse       10        NaN          629                                   -1856.364686   \n",
       "                                           199                                   -1864.775141   \n",
       "\n",
       "                                                           split3_test_neg_mean_squared_error  \\\n",
       "ccp_alpha criterion max_depth max_features max_leaf_nodes                                       \n",
       "1.0       mse       10        auto         199                                   -1739.070524   \n",
       "                              NaN          629                                   -1500.246919   \n",
       "                    9         auto         1992                                  -1730.420648   \n",
       "                                           199                                   -1660.379301   \n",
       "                    12        NaN          199                                   -1931.949869   \n",
       "0.1       mae       10        auto         629                                   -1631.724760   \n",
       "          mse       9         auto         1992                                  -1798.974760   \n",
       "1.0       mse       10        auto         629                                   -2076.775409   \n",
       "0.1       mse       10        NaN          629                                   -1814.059972   \n",
       "                                           199                                   -1586.944005   \n",
       "\n",
       "                                                           split4_test_neg_mean_squared_error  \\\n",
       "ccp_alpha criterion max_depth max_features max_leaf_nodes                                       \n",
       "1.0       mse       10        auto         199                                   -2362.208701   \n",
       "                              NaN          629                                   -2577.340540   \n",
       "                    9         auto         1992                                  -2630.859167   \n",
       "                                           199                                   -2509.135830   \n",
       "                    12        NaN          199                                   -2477.170536   \n",
       "0.1       mae       10        auto         629                                   -2239.897759   \n",
       "          mse       9         auto         1992                                  -2540.595108   \n",
       "1.0       mse       10        auto         629                                   -2244.279506   \n",
       "0.1       mse       10        NaN          629                                   -2490.649525   \n",
       "                                           199                                   -2606.601471   \n",
       "\n",
       "                                                           split5_test_neg_mean_squared_error  \\\n",
       "ccp_alpha criterion max_depth max_features max_leaf_nodes                                       \n",
       "1.0       mse       10        auto         199                                   -1157.440121   \n",
       "                              NaN          629                                   -1292.303164   \n",
       "                    9         auto         1992                                  -1187.081754   \n",
       "                                           199                                   -1219.552813   \n",
       "                    12        NaN          199                                   -1212.206429   \n",
       "0.1       mae       10        auto         629                                   -1221.762514   \n",
       "          mse       9         auto         1992                                  -1171.446502   \n",
       "1.0       mse       10        auto         629                                   -1131.610380   \n",
       "0.1       mse       10        NaN          629                                   -1185.844307   \n",
       "                                           199                                   -1306.494765   \n",
       "\n",
       "                                                           ...  \\\n",
       "ccp_alpha criterion max_depth max_features max_leaf_nodes  ...   \n",
       "1.0       mse       10        auto         199             ...   \n",
       "                              NaN          629             ...   \n",
       "                    9         auto         1992            ...   \n",
       "                                           199             ...   \n",
       "                    12        NaN          199             ...   \n",
       "0.1       mae       10        auto         629             ...   \n",
       "          mse       9         auto         1992            ...   \n",
       "1.0       mse       10        auto         629             ...   \n",
       "0.1       mse       10        NaN          629             ...   \n",
       "                                           199             ...   \n",
       "\n",
       "                                                           split2_train_r2  \\\n",
       "ccp_alpha criterion max_depth max_features max_leaf_nodes                    \n",
       "1.0       mse       10        auto         199                    0.948945   \n",
       "                              NaN          629                    0.959216   \n",
       "                    9         auto         1992                   0.957354   \n",
       "                                           199                    0.957436   \n",
       "                    12        NaN          199                    0.959113   \n",
       "0.1       mae       10        auto         629                    0.933389   \n",
       "          mse       9         auto         1992                   0.960188   \n",
       "1.0       mse       10        auto         629                    0.960247   \n",
       "0.1       mse       10        NaN          629                    0.961597   \n",
       "                                           199                    0.963617   \n",
       "\n",
       "                                                           split3_train_r2  \\\n",
       "ccp_alpha criterion max_depth max_features max_leaf_nodes                    \n",
       "1.0       mse       10        auto         199                    0.959240   \n",
       "                              NaN          629                    0.957633   \n",
       "                    9         auto         1992                   0.962630   \n",
       "                                           199                    0.958230   \n",
       "                    12        NaN          199                    0.962150   \n",
       "0.1       mae       10        auto         629                    0.940773   \n",
       "          mse       9         auto         1992                   0.957943   \n",
       "1.0       mse       10        auto         629                    0.957954   \n",
       "0.1       mse       10        NaN          629                    0.960642   \n",
       "                                           199                    0.961862   \n",
       "\n",
       "                                                           split4_train_r2  \\\n",
       "ccp_alpha criterion max_depth max_features max_leaf_nodes                    \n",
       "1.0       mse       10        auto         199                    0.957151   \n",
       "                              NaN          629                    0.960571   \n",
       "                    9         auto         1992                   0.959547   \n",
       "                                           199                    0.964113   \n",
       "                    12        NaN          199                    0.957668   \n",
       "0.1       mae       10        auto         629                    0.935800   \n",
       "          mse       9         auto         1992                   0.959833   \n",
       "1.0       mse       10        auto         629                    0.959084   \n",
       "0.1       mse       10        NaN          629                    0.965414   \n",
       "                                           199                    0.965268   \n",
       "\n",
       "                                                           split5_train_r2  \\\n",
       "ccp_alpha criterion max_depth max_features max_leaf_nodes                    \n",
       "1.0       mse       10        auto         199                    0.964259   \n",
       "                              NaN          629                    0.953595   \n",
       "                    9         auto         1992                   0.961469   \n",
       "                                           199                    0.955169   \n",
       "                    12        NaN          199                    0.961108   \n",
       "0.1       mae       10        auto         629                    0.944764   \n",
       "          mse       9         auto         1992                   0.963889   \n",
       "1.0       mse       10        auto         629                    0.960403   \n",
       "0.1       mse       10        NaN          629                    0.957505   \n",
       "                                           199                    0.964090   \n",
       "\n",
       "                                                           split6_train_r2  \\\n",
       "ccp_alpha criterion max_depth max_features max_leaf_nodes                    \n",
       "1.0       mse       10        auto         199                    0.955270   \n",
       "                              NaN          629                    0.946787   \n",
       "                    9         auto         1992                   0.950129   \n",
       "                                           199                    0.946392   \n",
       "                    12        NaN          199                    0.955416   \n",
       "0.1       mae       10        auto         629                    0.932035   \n",
       "          mse       9         auto         1992                   0.952492   \n",
       "1.0       mse       10        auto         629                    0.948575   \n",
       "0.1       mse       10        NaN          629                    0.960910   \n",
       "                                           199                    0.950988   \n",
       "\n",
       "                                                           split7_train_r2  \\\n",
       "ccp_alpha criterion max_depth max_features max_leaf_nodes                    \n",
       "1.0       mse       10        auto         199                    0.956784   \n",
       "                              NaN          629                    0.956361   \n",
       "                    9         auto         1992                   0.957139   \n",
       "                                           199                    0.957835   \n",
       "                    12        NaN          199                    0.955500   \n",
       "0.1       mae       10        auto         629                    0.930910   \n",
       "          mse       9         auto         1992                   0.959621   \n",
       "1.0       mse       10        auto         629                    0.959368   \n",
       "0.1       mse       10        NaN          629                    0.964169   \n",
       "                                           199                    0.963521   \n",
       "\n",
       "                                                           split8_train_r2  \\\n",
       "ccp_alpha criterion max_depth max_features max_leaf_nodes                    \n",
       "1.0       mse       10        auto         199                    0.961405   \n",
       "                              NaN          629                    0.961713   \n",
       "                    9         auto         1992                   0.955888   \n",
       "                                           199                    0.961473   \n",
       "                    12        NaN          199                    0.968553   \n",
       "0.1       mae       10        auto         629                    0.939954   \n",
       "          mse       9         auto         1992                   0.961377   \n",
       "1.0       mse       10        auto         629                    0.963173   \n",
       "0.1       mse       10        NaN          629                    0.964339   \n",
       "                                           199                    0.966004   \n",
       "\n",
       "                                                           split9_train_r2  \\\n",
       "ccp_alpha criterion max_depth max_features max_leaf_nodes                    \n",
       "1.0       mse       10        auto         199                    0.946941   \n",
       "                              NaN          629                    0.959704   \n",
       "                    9         auto         1992                   0.951536   \n",
       "                                           199                    0.953314   \n",
       "                    12        NaN          199                    0.956147   \n",
       "0.1       mae       10        auto         629                    0.943334   \n",
       "          mse       9         auto         1992                   0.952228   \n",
       "1.0       mse       10        auto         629                    0.957985   \n",
       "0.1       mse       10        NaN          629                    0.965340   \n",
       "                                           199                    0.952480   \n",
       "\n",
       "                                                           mean_train_r2  \\\n",
       "ccp_alpha criterion max_depth max_features max_leaf_nodes                  \n",
       "1.0       mse       10        auto         199                  0.957203   \n",
       "                              NaN          629                  0.956851   \n",
       "                    9         auto         1992                 0.956335   \n",
       "                                           199                  0.956208   \n",
       "                    12        NaN          199                  0.959559   \n",
       "0.1       mae       10        auto         629                  0.936917   \n",
       "          mse       9         auto         1992                 0.958185   \n",
       "1.0       mse       10        auto         629                  0.958176   \n",
       "0.1       mse       10        NaN          629                  0.961915   \n",
       "                                           199                  0.960584   \n",
       "\n",
       "                                                           std_train_r2  \n",
       "ccp_alpha criterion max_depth max_features max_leaf_nodes                \n",
       "1.0       mse       10        auto         199                 0.005313  \n",
       "                              NaN          629                 0.004465  \n",
       "                    9         auto         1992                0.003952  \n",
       "                                           199                 0.004758  \n",
       "                    12        NaN          199                 0.003771  \n",
       "0.1       mae       10        auto         629                 0.004658  \n",
       "          mse       9         auto         1992                0.003625  \n",
       "1.0       mse       10        auto         629                 0.003737  \n",
       "0.1       mse       10        NaN          629                 0.002604  \n",
       "                                           199                 0.005558  \n",
       "\n",
       "[10 rows x 54 columns]"
      ],
      "text/html": "<div>\n<style scoped>\n    .dataframe tbody tr th:only-of-type {\n        vertical-align: middle;\n    }\n\n    .dataframe tbody tr th {\n        vertical-align: top;\n    }\n\n    .dataframe thead th {\n        text-align: right;\n    }\n</style>\n<table border=\"1\" class=\"dataframe\">\n  <thead>\n    <tr style=\"text-align: right;\">\n      <th></th>\n      <th></th>\n      <th></th>\n      <th></th>\n      <th></th>\n      <th>mean_fit_time</th>\n      <th>std_fit_time</th>\n      <th>mean_score_time</th>\n      <th>std_score_time</th>\n      <th>split0_test_neg_mean_squared_error</th>\n      <th>split1_test_neg_mean_squared_error</th>\n      <th>split2_test_neg_mean_squared_error</th>\n      <th>split3_test_neg_mean_squared_error</th>\n      <th>split4_test_neg_mean_squared_error</th>\n      <th>split5_test_neg_mean_squared_error</th>\n      <th>...</th>\n      <th>split2_train_r2</th>\n      <th>split3_train_r2</th>\n      <th>split4_train_r2</th>\n      <th>split5_train_r2</th>\n      <th>split6_train_r2</th>\n      <th>split7_train_r2</th>\n      <th>split8_train_r2</th>\n      <th>split9_train_r2</th>\n      <th>mean_train_r2</th>\n      <th>std_train_r2</th>\n    </tr>\n    <tr>\n      <th>ccp_alpha</th>\n      <th>criterion</th>\n      <th>max_depth</th>\n      <th>max_features</th>\n      <th>max_leaf_nodes</th>\n      <th></th>\n      <th></th>\n      <th></th>\n      <th></th>\n      <th></th>\n      <th></th>\n      <th></th>\n      <th></th>\n      <th></th>\n      <th></th>\n      <th></th>\n      <th></th>\n      <th></th>\n      <th></th>\n      <th></th>\n      <th></th>\n      <th></th>\n      <th></th>\n      <th></th>\n      <th></th>\n      <th></th>\n    </tr>\n  </thead>\n  <tbody>\n    <tr>\n      <th rowspan=\"5\" valign=\"top\">1.0</th>\n      <th rowspan=\"5\" valign=\"top\">mse</th>\n      <th rowspan=\"2\" valign=\"top\">10</th>\n      <th>auto</th>\n      <th>199</th>\n      <td>2.211581</td>\n      <td>0.171242</td>\n      <td>0.015584</td>\n      <td>0.001685</td>\n      <td>-683.491642</td>\n      <td>-1195.051484</td>\n      <td>-1285.306545</td>\n      <td>-1739.070524</td>\n      <td>-2362.208701</td>\n      <td>-1157.440121</td>\n      <td>...</td>\n      <td>0.948945</td>\n      <td>0.959240</td>\n      <td>0.957151</td>\n      <td>0.964259</td>\n      <td>0.955270</td>\n      <td>0.956784</td>\n      <td>0.961405</td>\n      <td>0.946941</td>\n      <td>0.957203</td>\n      <td>0.005313</td>\n    </tr>\n    <tr>\n      <th>NaN</th>\n      <th>629</th>\n      <td>2.150079</td>\n      <td>0.091926</td>\n      <td>0.015485</td>\n      <td>0.001876</td>\n      <td>-706.258133</td>\n      <td>-1208.535551</td>\n      <td>-1957.424978</td>\n      <td>-1500.246919</td>\n      <td>-2577.340540</td>\n      <td>-1292.303164</td>\n      <td>...</td>\n      <td>0.959216</td>\n      <td>0.957633</td>\n      <td>0.960571</td>\n      <td>0.953595</td>\n      <td>0.946787</td>\n      <td>0.956361</td>\n      <td>0.961713</td>\n      <td>0.959704</td>\n      <td>0.956851</td>\n      <td>0.004465</td>\n    </tr>\n    <tr>\n      <th rowspan=\"2\" valign=\"top\">9</th>\n      <th rowspan=\"2\" valign=\"top\">auto</th>\n      <th>1992</th>\n      <td>1.946140</td>\n      <td>0.091620</td>\n      <td>0.017891</td>\n      <td>0.009554</td>\n      <td>-736.225889</td>\n      <td>-1258.048837</td>\n      <td>-1676.078044</td>\n      <td>-1730.420648</td>\n      <td>-2630.859167</td>\n      <td>-1187.081754</td>\n      <td>...</td>\n      <td>0.957354</td>\n      <td>0.962630</td>\n      <td>0.959547</td>\n      <td>0.961469</td>\n      <td>0.950129</td>\n      <td>0.957139</td>\n      <td>0.955888</td>\n      <td>0.951536</td>\n      <td>0.956335</td>\n      <td>0.003952</td>\n    </tr>\n    <tr>\n      <th>199</th>\n      <td>1.908923</td>\n      <td>0.082004</td>\n      <td>0.016939</td>\n      <td>0.002284</td>\n      <td>-723.570004</td>\n      <td>-1060.177203</td>\n      <td>-1930.354322</td>\n      <td>-1660.379301</td>\n      <td>-2509.135830</td>\n      <td>-1219.552813</td>\n      <td>...</td>\n      <td>0.957436</td>\n      <td>0.958230</td>\n      <td>0.964113</td>\n      <td>0.955169</td>\n      <td>0.946392</td>\n      <td>0.957835</td>\n      <td>0.961473</td>\n      <td>0.953314</td>\n      <td>0.956208</td>\n      <td>0.004758</td>\n    </tr>\n    <tr>\n      <th>12</th>\n      <th>NaN</th>\n      <th>199</th>\n      <td>2.291848</td>\n      <td>0.195587</td>\n      <td>0.015372</td>\n      <td>0.002282</td>\n      <td>-698.066201</td>\n      <td>-1210.917347</td>\n      <td>-1681.507720</td>\n      <td>-1931.949869</td>\n      <td>-2477.170536</td>\n      <td>-1212.206429</td>\n      <td>...</td>\n      <td>0.959113</td>\n      <td>0.962150</td>\n      <td>0.957668</td>\n      <td>0.961108</td>\n      <td>0.955416</td>\n      <td>0.955500</td>\n      <td>0.968553</td>\n      <td>0.956147</td>\n      <td>0.959559</td>\n      <td>0.003771</td>\n    </tr>\n    <tr>\n      <th rowspan=\"2\" valign=\"top\">0.1</th>\n      <th>mae</th>\n      <th>10</th>\n      <th>auto</th>\n      <th>629</th>\n      <td>38.803116</td>\n      <td>0.750402</td>\n      <td>0.013823</td>\n      <td>0.001988</td>\n      <td>-1216.399332</td>\n      <td>-1422.906419</td>\n      <td>-1861.375640</td>\n      <td>-1631.724760</td>\n      <td>-2239.897759</td>\n      <td>-1221.762514</td>\n      <td>...</td>\n      <td>0.933389</td>\n      <td>0.940773</td>\n      <td>0.935800</td>\n      <td>0.944764</td>\n      <td>0.932035</td>\n      <td>0.930910</td>\n      <td>0.939954</td>\n      <td>0.943334</td>\n      <td>0.936917</td>\n      <td>0.004658</td>\n    </tr>\n    <tr>\n      <th>mse</th>\n      <th>9</th>\n      <th>auto</th>\n      <th>1992</th>\n      <td>2.037349</td>\n      <td>0.137142</td>\n      <td>0.015513</td>\n      <td>0.004097</td>\n      <td>-788.833810</td>\n      <td>-1239.292029</td>\n      <td>-1761.065170</td>\n      <td>-1798.974760</td>\n      <td>-2540.595108</td>\n      <td>-1171.446502</td>\n      <td>...</td>\n      <td>0.960188</td>\n      <td>0.957943</td>\n      <td>0.959833</td>\n      <td>0.963889</td>\n      <td>0.952492</td>\n      <td>0.959621</td>\n      <td>0.961377</td>\n      <td>0.952228</td>\n      <td>0.958185</td>\n      <td>0.003625</td>\n    </tr>\n    <tr>\n      <th>1.0</th>\n      <th>mse</th>\n      <th>10</th>\n      <th>auto</th>\n      <th>629</th>\n      <td>2.192411</td>\n      <td>0.183072</td>\n      <td>0.014795</td>\n      <td>0.001563</td>\n      <td>-692.011369</td>\n      <td>-1156.798389</td>\n      <td>-2006.554859</td>\n      <td>-2076.775409</td>\n      <td>-2244.279506</td>\n      <td>-1131.610380</td>\n      <td>...</td>\n      <td>0.960247</td>\n      <td>0.957954</td>\n      <td>0.959084</td>\n      <td>0.960403</td>\n      <td>0.948575</td>\n      <td>0.959368</td>\n      <td>0.963173</td>\n      <td>0.957985</td>\n      <td>0.958176</td>\n      <td>0.003737</td>\n    </tr>\n    <tr>\n      <th rowspan=\"2\" valign=\"top\">0.1</th>\n      <th rowspan=\"2\" valign=\"top\">mse</th>\n      <th rowspan=\"2\" valign=\"top\">10</th>\n      <th rowspan=\"2\" valign=\"top\">NaN</th>\n      <th>629</th>\n      <td>2.269565</td>\n      <td>0.076147</td>\n      <td>0.019023</td>\n      <td>0.005073</td>\n      <td>-699.843315</td>\n      <td>-1093.099895</td>\n      <td>-1856.364686</td>\n      <td>-1814.059972</td>\n      <td>-2490.649525</td>\n      <td>-1185.844307</td>\n      <td>...</td>\n      <td>0.961597</td>\n      <td>0.960642</td>\n      <td>0.965414</td>\n      <td>0.957505</td>\n      <td>0.960910</td>\n      <td>0.964169</td>\n      <td>0.964339</td>\n      <td>0.965340</td>\n      <td>0.961915</td>\n      <td>0.002604</td>\n    </tr>\n    <tr>\n      <th>199</th>\n      <td>2.210904</td>\n      <td>0.107924</td>\n      <td>0.015755</td>\n      <td>0.002150</td>\n      <td>-870.393487</td>\n      <td>-1329.443813</td>\n      <td>-1864.775141</td>\n      <td>-1586.944005</td>\n      <td>-2606.601471</td>\n      <td>-1306.494765</td>\n      <td>...</td>\n      <td>0.963617</td>\n      <td>0.961862</td>\n      <td>0.965268</td>\n      <td>0.964090</td>\n      <td>0.950988</td>\n      <td>0.963521</td>\n      <td>0.966004</td>\n      <td>0.952480</td>\n      <td>0.960584</td>\n      <td>0.005558</td>\n    </tr>\n  </tbody>\n</table>\n<p>10 rows × 54 columns</p>\n</div>"
     },
     "metadata": {},
     "execution_count": 12
    }
   ],
   "source": [
    "# Top 10 model results for Random Forest and Bagging Regressor Run 2\n",
    "\n",
    "RF_run2.results.head(10)"
   ]
  },
  {
   "cell_type": "code",
   "execution_count": 13,
   "metadata": {},
   "outputs": [
    {
     "output_type": "execute_result",
     "data": {
      "text/plain": [
       "ccp_alpha  criterion  max_depth  max_features  max_leaf_nodes\n",
       "1.0        mse        10         auto          199              -2428.587681\n",
       "                                 NaN           629              -2454.831336\n",
       "                      9          auto          1992             -2484.084729\n",
       "                                               199              -2486.469285\n",
       "                      12         NaN           199              -2488.630722\n",
       "0.1        mae        10         auto          629              -2492.699447\n",
       "           mse        9          auto          1992             -2495.357914\n",
       "1.0        mse        10         auto          629              -2502.546570\n",
       "0.1        mse        10         NaN           629              -2503.855931\n",
       "                                               199              -2504.170200\n",
       "Name: mean_test_neg_mean_squared_error, dtype: float64"
      ]
     },
     "metadata": {},
     "execution_count": 13
    }
   ],
   "source": [
    "#Printing top 10 models for Random Forest and Bagging Regressor Run 2 based on test MSE value\n",
    "\n",
    "RF_run2.results['mean_test_neg_mean_squared_error'].head(10)"
   ]
  },
  {
   "source": [
    "### Comparing the 2 GridSearchCV models as well as the default model, we see that RF_run1 is the best model as it gives the lower test MSE score of 2367.26"
   ],
   "cell_type": "markdown",
   "metadata": {}
  },
  {
   "cell_type": "code",
   "execution_count": 14,
   "metadata": {},
   "outputs": [
    {
     "output_type": "execute_result",
     "data": {
      "text/plain": [
       "RandomForestRegressor(ccp_alpha=0.4, max_depth=10, n_estimators=50)"
      ]
     },
     "metadata": {},
     "execution_count": 14
    }
   ],
   "source": [
    "## Printing best parameters from RF_run1\n",
    "\n",
    "RF_run1.best_estimator_"
   ]
  },
  {
   "cell_type": "code",
   "execution_count": null,
   "metadata": {},
   "outputs": [],
   "source": []
  }
 ]
}