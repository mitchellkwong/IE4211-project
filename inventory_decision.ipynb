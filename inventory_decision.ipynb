{
 "cells": [
  {
   "cell_type": "code",
   "execution_count": 26,
   "metadata": {},
   "outputs": [],
   "source": [
    "import matplotlib.pyplot as plt\n",
    "import numpy as np\n",
    "import pandas as pd\n",
    "import seaborn as sns\n",
    "\n",
    "from data import train, validation\n",
    "from data import X, y\n",
    "from utils import StandardizedGridSearchCV\n",
    "\n",
    "c = 12\n",
    "p = 20\n",
    "s = 8"
   ]
  },
  {
   "cell_type": "markdown",
   "metadata": {},
   "source": [
    "# Univariate optimization"
   ]
  },
  {
   "cell_type": "code",
   "execution_count": 27,
   "metadata": {},
   "outputs": [
    {
     "data": {
      "text/html": [
       "<div>\n",
       "<style scoped>\n",
       "    .dataframe tbody tr th:only-of-type {\n",
       "        vertical-align: middle;\n",
       "    }\n",
       "\n",
       "    .dataframe tbody tr th {\n",
       "        vertical-align: top;\n",
       "    }\n",
       "\n",
       "    .dataframe thead th {\n",
       "        text-align: right;\n",
       "    }\n",
       "</style>\n",
       "<table border=\"1\" class=\"dataframe\">\n",
       "  <thead>\n",
       "    <tr style=\"text-align: right;\">\n",
       "      <th></th>\n",
       "      <th>distribution</th>\n",
       "      <th>solution</th>\n",
       "    </tr>\n",
       "  </thead>\n",
       "  <tbody>\n",
       "    <tr>\n",
       "      <th>0</th>\n",
       "      <td>normal</td>\n",
       "      <td>100.234685</td>\n",
       "    </tr>\n",
       "    <tr>\n",
       "      <th>1</th>\n",
       "      <td>expon</td>\n",
       "      <td>62.166011</td>\n",
       "    </tr>\n",
       "    <tr>\n",
       "      <th>2</th>\n",
       "      <td>lognormal</td>\n",
       "      <td>41.943465</td>\n",
       "    </tr>\n",
       "    <tr>\n",
       "      <th>3</th>\n",
       "      <td>ecdf</td>\n",
       "      <td>42.870338</td>\n",
       "    </tr>\n",
       "  </tbody>\n",
       "</table>\n",
       "</div>"
      ],
      "text/plain": [
       "  distribution    solution\n",
       "0       normal  100.234685\n",
       "1        expon   62.166011\n",
       "2    lognormal   41.943465\n",
       "3         ecdf   42.870338"
      ]
     },
     "execution_count": 27,
     "metadata": {},
     "output_type": "execute_result"
    }
   ],
   "source": [
    "from scipy import stats\n",
    "\n",
    "def univariate_optimization(dist, c=c, p=p, s=s):\n",
    "    return dist.ppf((p-c)/(p-s))\n",
    "\n",
    "# Distributions to fit\n",
    "distributions = {\n",
    "    'normal': stats.norm,\n",
    "    'expon': stats.expon,\n",
    "    'lognormal': stats.lognorm,\n",
    "}\n",
    "\n",
    "# Fit all distributions to train sales\n",
    "distributions = {\n",
    "    name: dist(*dist.fit(train[y]))\n",
    "    for name, dist in distributions.items()\n",
    "}\n",
    "\n",
    "# Add an additional empirical distribution\n",
    "distributions['ecdf'] = stats.rv_histogram(np.histogram(train[y], bins=train.shape[0]))\n",
    "\n",
    "# Collate optimal solutions for each distribution\n",
    "records = []\n",
    "for name, dist in distributions.items():\n",
    "    records.append({\n",
    "        'distribution': name,\n",
    "        'solution': univariate_optimization(dist=dist),\n",
    "    })\n",
    "univariate = pd.DataFrame.from_records(records)\n",
    "univariate"
   ]
  },
  {
   "cell_type": "markdown",
   "metadata": {},
   "source": [
    "## Optimal univariate sales decision"
   ]
  },
  {
   "cell_type": "code",
   "execution_count": 28,
   "metadata": {},
   "outputs": [
    {
     "data": {
      "text/html": [
       "<div>\n",
       "<style scoped>\n",
       "    .dataframe tbody tr th:only-of-type {\n",
       "        vertical-align: middle;\n",
       "    }\n",
       "\n",
       "    .dataframe tbody tr th {\n",
       "        vertical-align: top;\n",
       "    }\n",
       "\n",
       "    .dataframe thead th {\n",
       "        text-align: right;\n",
       "    }\n",
       "</style>\n",
       "<table border=\"1\" class=\"dataframe\">\n",
       "  <thead>\n",
       "    <tr style=\"text-align: right;\">\n",
       "      <th></th>\n",
       "      <th>distribution</th>\n",
       "      <th>solution</th>\n",
       "      <th>profit_mean</th>\n",
       "      <th>profit_std</th>\n",
       "    </tr>\n",
       "  </thead>\n",
       "  <tbody>\n",
       "    <tr>\n",
       "      <th>0</th>\n",
       "      <td>lognormal</td>\n",
       "      <td>41.943465</td>\n",
       "      <td>114.449422</td>\n",
       "      <td>183.613635</td>\n",
       "    </tr>\n",
       "    <tr>\n",
       "      <th>1</th>\n",
       "      <td>ecdf</td>\n",
       "      <td>42.870338</td>\n",
       "      <td>114.333263</td>\n",
       "      <td>187.968893</td>\n",
       "    </tr>\n",
       "    <tr>\n",
       "      <th>2</th>\n",
       "      <td>expon</td>\n",
       "      <td>62.166011</td>\n",
       "      <td>99.751055</td>\n",
       "      <td>271.383431</td>\n",
       "    </tr>\n",
       "    <tr>\n",
       "      <th>3</th>\n",
       "      <td>normal</td>\n",
       "      <td>100.234685</td>\n",
       "      <td>28.390925</td>\n",
       "      <td>407.034554</td>\n",
       "    </tr>\n",
       "  </tbody>\n",
       "</table>\n",
       "</div>"
      ],
      "text/plain": [
       "  distribution    solution  profit_mean  profit_std\n",
       "0    lognormal   41.943465   114.449422  183.613635\n",
       "1         ecdf   42.870338   114.333263  187.968893\n",
       "2        expon   62.166011    99.751055  271.383431\n",
       "3       normal  100.234685    28.390925  407.034554"
      ]
     },
     "execution_count": 28,
     "metadata": {},
     "output_type": "execute_result"
    }
   ],
   "source": [
    "def profit(demand, inventory, c=c, p=p, s=s):\n",
    "    return (p-s)*np.minimum(demand, inventory) - (c-s)*inventory\n",
    "    \n",
    "    \n",
    "# Compute mean daily cost of each solution upon realization of sales (train and validation set)\n",
    "# univariate['train_profit'] = univariate['solution'].apply(lambda x: profit(train[y], x).mean())\n",
    "univariate['profit_mean'] = univariate['solution'].apply(lambda x: profit(validation[y], x).mean())\n",
    "univariate['profit_std'] = univariate['solution'].apply(lambda x: profit(validation[y], x).std())\n",
    "univariate = univariate.sort_values('profit_mean', ascending=False).reset_index(drop=True)\n",
    "univariate"
   ]
  },
  {
   "cell_type": "code",
   "execution_count": 29,
   "metadata": {},
   "outputs": [
    {
     "name": "stdout",
     "output_type": "stream",
     "text": [
      "c_star = 114.44942163825823\n",
      "y_star = 41.94346506272842\n"
     ]
    }
   ],
   "source": [
    "y_star = univariate['solution'].values[0]\n",
    "c_star = univariate['profit_mean'].values[0]\n",
    "\n",
    "print(f'{c_star = }') # Optimal profit\n",
    "print(f'{y_star = }') # Optimal decision"
   ]
  },
  {
   "cell_type": "markdown",
   "metadata": {},
   "source": [
    "# Sales prediction as inventory"
   ]
  },
  {
   "cell_type": "code",
   "execution_count": 30,
   "metadata": {},
   "outputs": [
    {
     "data": {
      "text/plain": [
       "LinearRegression()"
      ]
     },
     "execution_count": 30,
     "metadata": {},
     "output_type": "execute_result"
    }
   ],
   "source": [
    "# Load final model\n",
    "ensemble = StandardizedGridSearchCV.load('ensemble.p')\n",
    "ensemble = ensemble.best_estimator_\n",
    "\n",
    "# Load cached final predictions from submodels\n",
    "pred_train = pd.read_csv('predictions/train.csv', index_col=0)\n",
    "pred_val = pd.read_csv('predictions/validation.csv', index_col=0)\n",
    "\n",
    "# Fit final model to train data\n",
    "ensemble.fit(pred_train, train[y])"
   ]
  },
  {
   "cell_type": "code",
   "execution_count": 31,
   "metadata": {},
   "outputs": [
    {
     "name": "stdout",
     "output_type": "stream",
     "text": [
      "best_model_profits.mean() = 334.02008076274115\n",
      "best_model_profits.std()  = 654.2507962763729\n"
     ]
    }
   ],
   "source": [
    "# Individual model performance\n",
    "best_model_profits = profit(\n",
    "    validation[y], \n",
    "    np.maximum(0, pred_val.iloc[:, 0]).values,\n",
    ")\n",
    "\n",
    "print(f'{best_model_profits.mean() = }')\n",
    "print(f'{best_model_profits.std()  = }')"
   ]
  },
  {
   "cell_type": "code",
   "execution_count": 32,
   "metadata": {},
   "outputs": [
    {
     "name": "stdout",
     "output_type": "stream",
     "text": [
      "meta_model_profits.mean() = 339.0054238791992\n",
      "meta_model_profits.std()  = 649.5073831690084\n"
     ]
    }
   ],
   "source": [
    "# Ensemble model performance\n",
    "meta_model_profits = profit(\n",
    "    validation[y], \n",
    "    np.maximum(0, ensemble.predict(pred_val))\n",
    ")\n",
    "print(f'{meta_model_profits.mean() = }')\n",
    "print(f'{meta_model_profits.std()  = }')"
   ]
  },
  {
   "cell_type": "markdown",
   "metadata": {},
   "source": [
    "# Combined model\n",
    "\n",
    "We combine the solutions by taking a weighted average of solutions from univariate optimization and our sales forecasts. To obtain the weights, we use logistic regression to predict the probability that the sales forecast will perform better than the univariate optimization method. This \"model confidence model\" is fit on our train split and evaluated on our test split."
   ]
  },
  {
   "cell_type": "code",
   "execution_count": 33,
   "metadata": {},
   "outputs": [
    {
     "data": {
      "text/plain": [
       "LogisticRegressionCV(max_iter=10000, scoring='balanced_accuracy')"
      ]
     },
     "execution_count": 33,
     "metadata": {},
     "output_type": "execute_result"
    }
   ],
   "source": [
    "from sklearn.linear_model import LogisticRegressionCV, LinearRegression\n",
    "from sklearn.ensemble import RandomForestClassifier\n",
    "\n",
    "# Get best previously obtained solutions on train set\n",
    "y_star_train = y_star\n",
    "y_meta_train = np.maximum(0, ensemble.predict(pred_train)) \n",
    "\n",
    "# Compute profits\n",
    "c_star_train = profit(train[y], y_star_train)\n",
    "c_meta_train = profit(train[y], y_meta_train)\n",
    "\n",
    "# Fit a logistic regression to predict probability of model forecasts outperforming univariate optimizations\n",
    "error_model = LogisticRegressionCV(max_iter=10000, scoring='balanced_accuracy')\n",
    "error_model.fit(train[X], c_meta_train > c_star_train)"
   ]
  },
  {
   "cell_type": "markdown",
   "metadata": {},
   "source": [
    "## Grid Search for mixing parameter to maximize profits"
   ]
  },
  {
   "cell_type": "code",
   "execution_count": 34,
   "metadata": {},
   "outputs": [
    {
     "data": {
      "image/png": "[encoded data removed]",
      "text/plain": [
       "<Figure size 432x288 with 1 Axes>"
      ]
     },
     "metadata": {
      "needs_background": "light"
     },
     "output_type": "display_data"
    },
    {
     "data": {
      "text/html": [
       "<div>\n",
       "<style scoped>\n",
       "    .dataframe tbody tr th:only-of-type {\n",
       "        vertical-align: middle;\n",
       "    }\n",
       "\n",
       "    .dataframe tbody tr th {\n",
       "        vertical-align: top;\n",
       "    }\n",
       "\n",
       "    .dataframe thead th {\n",
       "        text-align: right;\n",
       "    }\n",
       "</style>\n",
       "<table border=\"1\" class=\"dataframe\">\n",
       "  <thead>\n",
       "    <tr style=\"text-align: right;\">\n",
       "      <th></th>\n",
       "      <th>alpha</th>\n",
       "      <th>mean</th>\n",
       "      <th>std</th>\n",
       "    </tr>\n",
       "  </thead>\n",
       "  <tbody>\n",
       "    <tr>\n",
       "      <th>100</th>\n",
       "      <td>1.00</td>\n",
       "      <td>307.508694</td>\n",
       "      <td>556.451087</td>\n",
       "    </tr>\n",
       "    <tr>\n",
       "      <th>99</th>\n",
       "      <td>0.99</td>\n",
       "      <td>305.978810</td>\n",
       "      <td>552.299901</td>\n",
       "    </tr>\n",
       "    <tr>\n",
       "      <th>98</th>\n",
       "      <td>0.98</td>\n",
       "      <td>304.448414</td>\n",
       "      <td>548.160384</td>\n",
       "    </tr>\n",
       "    <tr>\n",
       "      <th>97</th>\n",
       "      <td>0.97</td>\n",
       "      <td>302.906781</td>\n",
       "      <td>544.032912</td>\n",
       "    </tr>\n",
       "    <tr>\n",
       "      <th>96</th>\n",
       "      <td>0.96</td>\n",
       "      <td>301.350159</td>\n",
       "      <td>539.908072</td>\n",
       "    </tr>\n",
       "  </tbody>\n",
       "</table>\n",
       "</div>"
      ],
      "text/plain": [
       "     alpha        mean         std\n",
       "100   1.00  307.508694  556.451087\n",
       "99    0.99  305.978810  552.299901\n",
       "98    0.98  304.448414  548.160384\n",
       "97    0.97  302.906781  544.032912\n",
       "96    0.96  301.350159  539.908072"
      ]
     },
     "execution_count": 34,
     "metadata": {},
     "output_type": "execute_result"
    }
   ],
   "source": [
    "y_meta = np.maximum(0, ensemble.predict(pred_val))\n",
    "weights = error_model.predict_proba(validation[X])[:, 1]\n",
    "odds = np.exp(weights)\n",
    "probs = odds / (1+odds)\n",
    "\n",
    "records = []\n",
    "for alpha in np.linspace(0, 1, 101):\n",
    "    w = alpha * probs\n",
    "    mixed_preds = np.maximum(0, w*y_meta + (1-w)*y_star)\n",
    "    mixed_costs = profit(validation[y], mixed_preds)\n",
    "    records.append({\n",
    "        'alpha': alpha,\n",
    "        'mean': mixed_costs.mean(),\n",
    "        'std': mixed_costs.std(),\n",
    "    })\n",
    "\n",
    "costs = pd.DataFrame.from_records(records)\n",
    "sns.lineplot(x='alpha', y='mean', data=costs)\n",
    "sns.lineplot(x='alpha', y='std', data=costs)\n",
    "plt.legend(['mean', 'std'])\n",
    "plt.show()\n",
    "\n",
    "costs.sort_values('mean', ascending=False).head()"
   ]
  },
  {
   "cell_type": "markdown",
   "metadata": {},
   "source": [
    "Unfortunately, this method does not yield better results than using forecasts directly. This is likely due the difficulty of fitting an error model that can accurately predict when a model will perform badly. We can see the poor performance of the error model from the ROC plot below. Hence, we will be using sales forecasts directly for inventory prediction."
   ]
  },
  {
   "cell_type": "code",
   "execution_count": 35,
   "metadata": {},
   "outputs": [
    {
     "data": {
      "text/plain": [
       "array([[   1,  185],\n",
       "       [   0, 1806]])"
      ]
     },
     "execution_count": 35,
     "metadata": {},
     "output_type": "execute_result"
    },
    {
     "data": {
      "image/png": "[encoded data removed]",
      "text/plain": [
       "<Figure size 432x288 with 1 Axes>"
      ]
     },
     "metadata": {
      "needs_background": "light"
     },
     "output_type": "display_data"
    }
   ],
   "source": [
    "from sklearn.metrics import confusion_matrix, plot_roc_curve\n",
    "\n",
    "plot_roc_curve(error_model, train[X], c_meta_train > c_star_train)\n",
    "confusion_matrix(y_true=c_meta_train > c_star_train, y_pred=error_model.predict(train[X]))"
   ]
  }
 ],
 "metadata": {
  "kernelspec": {
   "display_name": "Python 3.8.8 64-bit ('base': conda)",
   "language": "python",
   "name": "python388jvsc74a57bd071677de9aba17018a39f7c0f2bbb29b4bc1c1991dcce88d5d6c4518b62318688"
  },
  "language_info": {
   "codemirror_mode": {
    "name": "ipython",
    "version": 3
   },
   "file_extension": ".py",
   "mimetype": "text/x-python",
   "name": "python",
   "nbconvert_exporter": "python",
   "pygments_lexer": "ipython3",
   "version": "3.8.8"
  },
  "metadata": {
   "interpreter": {
    "hash": "71677de9aba17018a39f7c0f2bbb29b4bc1c1991dcce88d5d6c4518b62318688"
   }
  }
 },
 "nbformat": 4,
 "nbformat_minor": 2
}
